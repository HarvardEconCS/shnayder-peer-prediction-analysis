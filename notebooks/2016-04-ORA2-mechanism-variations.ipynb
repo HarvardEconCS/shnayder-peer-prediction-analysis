{
 "metadata": {
  "name": "",
  "signature": "sha256:fcf89196909135c5ee53d7c5ba4036e50e5c178613a3bfa38bdc4aa390f6f8a5"
 },
 "nbformat": 3,
 "nbformat_minor": 0,
 "worksheets": [
  {
   "cells": [
    {
     "cell_type": "markdown",
     "metadata": {},
     "source": [
      "# Variants of mechanisms, strategies.\n",
      "\n",
      "e.g. what happens if we use a fixed 01 matrix per size, rather than the detail-free mechanism."
     ]
    },
    {
     "cell_type": "markdown",
     "metadata": {},
     "source": [
      "## Setup"
     ]
    },
    {
     "cell_type": "code",
     "collapsed": false,
     "input": [
      "%load_ext autoreload\n",
      "%autoreload 2\n",
      "%matplotlib inline"
     ],
     "language": "python",
     "metadata": {},
     "outputs": [
      {
       "output_type": "stream",
       "stream": "stdout",
       "text": [
        "The autoreload extension is already loaded. To reload it, use:\n",
        "  %reload_ext autoreload\n"
       ]
      }
     ],
     "prompt_number": 6
    },
    {
     "cell_type": "code",
     "collapsed": false,
     "input": [
      "import gzip\n",
      "import json\n",
      "import matplotlib.pyplot as plt\n",
      "import numpy as np\n",
      "import sys\n",
      "\n",
      "from collections import Counter, defaultdict\n",
      "from itertools import chain, groupby, islice\n",
      "from operator import itemgetter\n",
      "from pprint import pprint"
     ],
     "language": "python",
     "metadata": {},
     "outputs": [],
     "prompt_number": 7
    },
    {
     "cell_type": "code",
     "collapsed": false,
     "input": [
      "my_code_dir = \"/Users/shnayder/dissertation/code\"\n",
      "if my_code_dir not in sys.path:\n",
      "    sys.path.append(my_code_dir)\n",
      "\n",
      "import model.delta as md\n",
      "import model.plotting as plotting\n",
      "from model.cache import DirCache \n",
      "import edx_data.edx_data as edx\n",
      "from edx_data.edx_data import (load_assessments, grouper_by_keys, count_iter_items)"
     ],
     "language": "python",
     "metadata": {},
     "outputs": [],
     "prompt_number": 8
    },
    {
     "cell_type": "code",
     "collapsed": false,
     "input": [
      "import seaborn as sns\n",
      "\n",
      "plotting.set_plotting_defaults()\n",
      "FIG_DIR = \"/Users/shnayder/dissertation/tex/thesis/figures/ch3\""
     ],
     "language": "python",
     "metadata": {},
     "outputs": [],
     "prompt_number": 9
    },
    {
     "cell_type": "markdown",
     "metadata": {},
     "source": [
      "## Load the data"
     ]
    },
    {
     "cell_type": "code",
     "collapsed": true,
     "input": [
      "TEST = False\n",
      "data_path = \"/Users/shnayder/dissertation/edx-data/2016-03-14/\"\n",
      "if TEST:\n",
      "    filename = data_path + 'test-simplified.csv.gz'\n",
      "else:\n",
      "    filename = data_path + 'simplified.csv.gz'\n",
      "\n",
      "assessments = load_assessments(filename, assume_clean=True)\n"
     ],
     "language": "python",
     "metadata": {},
     "outputs": []
    },
    {
     "cell_type": "code",
     "collapsed": false,
     "input": [
      "by_criterion = grouper_by_keys(\"course_id\", \"item_id\", \"criterion_name\")\n",
      "assessments.sort(key=by_criterion)"
     ],
     "language": "python",
     "metadata": {},
     "outputs": []
    },
    {
     "cell_type": "code",
     "collapsed": false,
     "input": [
      "# Utils for saving, loading dict.\n",
      "cache_path = data_path + '/cache'\n",
      "cache = DirCache(cache_path)"
     ],
     "language": "python",
     "metadata": {},
     "outputs": [],
     "prompt_number": 10
    },
    {
     "cell_type": "code",
     "collapsed": false,
     "input": [
      "def plot_cdf(counts, title=\"\", ax=None, fig_kwargs=None, **kwargs):\n",
      "    \"\"\"\n",
      "    Given a counter dict (e.g. {1:3, 4:7, 2:5}),\n",
      "    plot a corresponding cdf (e.g. for 1 1 1 2 2 2 2 2 4 4 4 4 4 4 4).\n",
      "    Example points: (0,0), (0,1), (3,1), (3,4), (8,4), (11,), ()\n",
      "    \"\"\"\n",
      "    # (1,3), (2,5), (4,7)\n",
      "    pairs = sorted(counts.items())\n",
      "    \n",
      "    # (1,2,4), (3,5,7)\n",
      "    vals, widths = zip(*pairs)\n",
      "    \n",
      "    # 0,3,8,15\n",
      "    lefts = [sum(widths[:k]) for k in range(len(widths)+1)]\n",
      "    # duplicate the last element\n",
      "    vals = vals + (vals[-1],)\n",
      "    \n",
      "    #print lefts, vals, widths\n",
      "\n",
      "    if ax is None:\n",
      "        if fig_kwargs is None:\n",
      "            fig_kwargs = {}\n",
      "        fig, ax = plt.subplots(**fig_kwargs)\n",
      "        \n",
      "    ax.step(vals, lefts, where='pre',\n",
      "            alpha=plotting.DEFAULT_ALPHA)\n",
      "    ax.set_title(title)\n",
      "    ax.set_xlim(xmin=0)\n",
      "    return ax"
     ],
     "language": "python",
     "metadata": {},
     "outputs": []
    },
    {
     "cell_type": "code",
     "collapsed": false,
     "input": [
      "MECHS = [\"OA\", \"RPTS\", \"01\"]"
     ],
     "language": "python",
     "metadata": {},
     "outputs": [],
     "prompt_number": 11
    },
    {
     "cell_type": "markdown",
     "metadata": {},
     "source": [
      "# How much is lost by using a fixed matrix per size in 01?\n",
      "\n",
      "Need to define \"lost\":\n",
      "\n",
      "- Compare distribution of scores. If they're similar, may not matter much.\n",
      "- Ideally, would want to think about possible manipulations. Questions:\n",
      "    - how would users know that _this_ question has a different structure than others?\n",
      "    - could look deeper at deltas -- if we zero out small entries, how much variation is there?\n",
      "        - cluster\n",
      "        \n",
      "Let's get the distribution of scores first."
     ]
    },
    {
     "cell_type": "code",
     "collapsed": false,
     "input": [
      "tst_assessments = assessments[:10000]"
     ],
     "language": "python",
     "metadata": {},
     "outputs": []
    },
    {
     "cell_type": "code",
     "collapsed": false,
     "input": [
      "true_scores = md.scores_01(assessments, avg=True)"
     ],
     "language": "python",
     "metadata": {},
     "outputs": []
    },
    {
     "cell_type": "code",
     "collapsed": false,
     "input": [
      "fixed_scores = md.scores_01(assessments, avg=True, fixed_scores=True)"
     ],
     "language": "python",
     "metadata": {},
     "outputs": []
    },
    {
     "cell_type": "code",
     "collapsed": false,
     "input": [
      "true_mean = np.mean(true_scores)\n",
      "fixed_mean = np.mean(fixed_scores)\n",
      "\n",
      "fig, axs = plt.subplots(1,2, sharey=True)\n",
      "axs[0].hist(true_scores, bins=50, alpha=plotting.DEFAULT_ALPHA)\n",
      "axs[0].set_title(\"True CA score distribution\")\n",
      "axs[0].axvline(true_mean, color='gray', lw=1, ls='--', alpha=plotting.DEFAULT_ALPHA)\n",
      "axs[1].hist(fixed_scores, bins=50, alpha=plotting.DEFAULT_ALPHA)\n",
      "axs[1].set_title(\"Fixed score matrix CA scores distribution \")\n",
      "axs[1].axvline(fixed_mean, color='gray', lw=1, ls='--', alpha=plotting.DEFAULT_ALPHA)\n",
      "\n",
      "axs[0].yaxis.set_major_locator( plt.MultipleLocator(2* 10**5))\n",
      "sns.despine(fig)\n",
      "plotting.set_width(fig,'full',height_ratio=0.5)\n",
      "# fig.subplots_adjust(hspace=0.4)\n",
      "plotting.save_figure(fig, \"true_fixed_score_hist.pdf\")"
     ],
     "language": "python",
     "metadata": {},
     "outputs": []
    },
    {
     "cell_type": "markdown",
     "metadata": {},
     "source": [
      "Similar pattern, more 0.5 scores -- slightly reduces number of scores around 0.3, 0.8. Let's look at mean."
     ]
    },
    {
     "cell_type": "code",
     "collapsed": false,
     "input": [
      "print true_mean, fixed_mean, (true_mean-fixed_mean)/true_mean"
     ],
     "language": "python",
     "metadata": {},
     "outputs": []
    },
    {
     "cell_type": "markdown",
     "metadata": {},
     "source": [
      "So reduces expected score by about 1.3%. Not bad...\n",
      "\n",
      "Plotting the fixed score matrices as an illustrative figure in the Summarize notebook.\n",
      "\n",
      "Interesting follow-up question is what the effect on individual students' scores are. Let's compute the diffs."
     ]
    },
    {
     "cell_type": "code",
     "collapsed": false,
     "input": [
      "diffs = [new - orig for orig, new in zip(true_scores, fixed_scores)]"
     ],
     "language": "python",
     "metadata": {},
     "outputs": []
    },
    {
     "cell_type": "code",
     "collapsed": false,
     "input": [
      "fig, ax = plt.subplots()\n",
      "ax.hist(diffs, bins=50, alpha=plotting.DEFAULT_ALPHA);\n",
      "ax.set_title(\"Fixed matrix score - orig score\")\n",
      "plotting.set_width(fig, \"half\")\n",
      "    "
     ],
     "language": "python",
     "metadata": {},
     "outputs": []
    },
    {
     "cell_type": "code",
     "collapsed": false,
     "input": [
      "# How many are affected?\n",
      "affected = len([x for x in diffs if x != 0])\n",
      "total = len(diffs)\n",
      "print \"{} / {} = {:.2f}%\".format(affected, total, affected/float(total) * 100)"
     ],
     "language": "python",
     "metadata": {},
     "outputs": []
    },
    {
     "cell_type": "code",
     "collapsed": false,
     "input": [
      "# Zoom in on just affected ones.\n",
      "non_zero_diffs = [x for x in diffs if x != 0]\n",
      "\n",
      "fig, ax = plt.subplots()\n",
      "ax.hist(non_zero_diffs, bins=50, alpha=plotting.DEFAULT_ALPHA);\n",
      "ax.set_title(\"Non-zero score differences\")\n",
      "ax.yaxis.set_major_locator( plt.MultipleLocator(10**5))\n",
      "sns.despine(fig)\n",
      "plotting.set_width(fig, \"half\")\n",
      "plotting.save_figure(fig, \"non_zero_01_score_diffs_hist.pdf\")"
     ],
     "language": "python",
     "metadata": {},
     "outputs": []
    },
    {
     "cell_type": "code",
     "collapsed": false,
     "input": [
      "# QQ-ish plot\n",
      "sorted_true = sorted(true_scores)\n",
      "sorted_fixed = sorted(fixed_scores)"
     ],
     "language": "python",
     "metadata": {},
     "outputs": []
    },
    {
     "cell_type": "code",
     "collapsed": false,
     "input": [
      "fig, ax = plt.subplots()\n",
      "\n",
      "def subsample(xs, k=1000):\n",
      "    return xs[::k]\n",
      "\n",
      "ax.scatter(subsample(sorted_true), subsample(sorted_fixed),\n",
      "           s=3, alpha=plotting.DEFAULT_ALPHA)\n",
      "ax.plot([0,1],[0,1],color='gray', ls='--', lw=1)\n",
      "ax.set_xlim((0,1))\n",
      "ax.set_ylim((0,1))\n",
      "ax.set_xlabel(\"True scores\")\n",
      "ax.set_ylabel(\"Fixed scores\")\n",
      "ax.set_title(\"Fixed matrix vs true CA scores\")\n",
      "\n",
      "ax.title.set_position((0.5, 1.05))\n",
      "\n",
      "plotting.set_width(fig, \"half\", fig_height=\"half\")\n",
      "plotting.save_figure(fig, \"true_fixed_score_qq.pdf\")"
     ],
     "language": "python",
     "metadata": {},
     "outputs": []
    },
    {
     "cell_type": "markdown",
     "metadata": {},
     "source": [
      "# Look by criterion -- incentive effects\n",
      "\n",
      "We can look at the joints, and see how much of a difference it makes: look at the sum of absolute value of the delta entries whose sign is changed."
     ]
    },
    {
     "cell_type": "code",
     "collapsed": false,
     "input": [
      "data_path = \"/Users/shnayder/dissertation/edx-data/2016-03-14/\"\n",
      "jointfile = data_path + \"signal_joint_20160422.json\"\n",
      "# Load data\n",
      "with open(jointfile, 'r') as f:\n",
      "    # save as an array because keys aren't strings\n",
      "    lst = json.load(f)\n",
      "    signal_joints = dict((tuple(k), np.array(v)) for k,v in lst)\n",
      "    \n",
      "# Filter out models with sizes outside 2-6\n",
      "for k,v in signal_joints.items():\n",
      "    n = v.shape[0]\n",
      "    if n < 2 or n > 6:\n",
      "        del signal_joints[k]"
     ],
     "language": "python",
     "metadata": {},
     "outputs": [],
     "prompt_number": 12
    },
    {
     "cell_type": "code",
     "collapsed": false,
     "input": [
      "def expected_score_diff(delta):\n",
      "    \"\"\"\n",
      "    Compute the difference in expected score for using the \"true\"\n",
      "    score matrix vs the appropriate fixed score matrix.\n",
      "    \n",
      "    Returns:\n",
      "        float: exp_score(fixed) - exp_score(truthful)\n",
      "    \"\"\"\n",
      "    return (md.expected_01_score(delta, md.fixed_score_matrix(delta)) - \n",
      "            md.expected_01_score(delta))\n"
     ],
     "language": "python",
     "metadata": {},
     "outputs": [],
     "prompt_number": 13
    },
    {
     "cell_type": "code",
     "collapsed": false,
     "input": [
      "diffs = [expected_score_diff(md.delta_from_joint(joint))\n",
      "         for joint in signal_joints.values()]"
     ],
     "language": "python",
     "metadata": {},
     "outputs": [],
     "prompt_number": 14
    },
    {
     "cell_type": "code",
     "collapsed": false,
     "input": [
      "\n",
      "fig, ax = plt.subplots()\n",
      "ax.hist(diffs, bins=50, alpha=plotting.DEFAULT_ALPHA);\n",
      "#ax.set_title(\"Expected score differences\")\n",
      "ax.yaxis.set_major_locator( plt.MultipleLocator(300))\n",
      "ax.set_xlim((-0.05, 0))\n",
      "sns.despine(fig)\n",
      "plotting.set_width(fig, \"half\")\n",
      "plotting.save_figure(fig, \"expected_score_diffs_hist.pdf\")"
     ],
     "language": "python",
     "metadata": {},
     "outputs": [
      {
       "metadata": {},
       "output_type": "display_data",
       "png": "[encoded data removed]",
       "text": [
        "<matplotlib.figure.Figure at 0x10eea8990>"
       ]
      }
     ],
     "prompt_number": 15
    },
    {
     "cell_type": "code",
     "collapsed": false,
     "input": [],
     "language": "python",
     "metadata": {},
     "outputs": []
    }
   ],
   "metadata": {}
  }
 ]
}