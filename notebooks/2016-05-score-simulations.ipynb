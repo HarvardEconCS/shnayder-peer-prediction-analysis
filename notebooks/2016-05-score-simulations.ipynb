{
 "metadata": {
  "name": "",
  "signature": "sha256:a3e8a45b12c4bc647d6fd646428f7617139a29c5b4ff90d9f22ff30545f18137"
 },
 "nbformat": 3,
 "nbformat_minor": 0,
 "worksheets": [
  {
   "cells": [
    {
     "cell_type": "markdown",
     "metadata": {},
     "source": [
      "# What would scores look like for hand-chosen world models? \n",
      "\n",
      "What's a \"good\" expected score? "
     ]
    },
    {
     "cell_type": "markdown",
     "metadata": {},
     "source": [
      "## Setup"
     ]
    },
    {
     "cell_type": "code",
     "collapsed": false,
     "input": [
      "%load_ext autoreload\n",
      "%autoreload 2\n",
      "%matplotlib inline"
     ],
     "language": "python",
     "metadata": {},
     "outputs": [],
     "prompt_number": 1
    },
    {
     "cell_type": "code",
     "collapsed": false,
     "input": [
      "import gzip\n",
      "import json\n",
      "import math\n",
      "import matplotlib.pyplot as plt\n",
      "import matplotlib as mpl\n",
      "import numpy as np\n",
      "import scipy.stats\n",
      "import sys\n",
      "\n",
      "import seaborn as sns\n",
      "\n",
      "from collections import Counter, defaultdict\n",
      "from itertools import chain, groupby\n",
      "from operator import itemgetter\n",
      "from pprint import pprint\n"
     ],
     "language": "python",
     "metadata": {},
     "outputs": [],
     "prompt_number": 2
    },
    {
     "cell_type": "code",
     "collapsed": false,
     "input": [
      "my_code_dir = \"/Users/shnayder/dissertation/code\"\n",
      "if my_code_dir not in sys.path:\n",
      "    sys.path.append(my_code_dir)\n",
      "\n",
      "import model.delta as md\n",
      "import model.plotting as plotting\n",
      "import model.world as wd\n",
      "import edx_data.edx_data as edx\n",
      "from edx_data.edx_data import (load_assessments, grouper_by_keys, count_iter_items)"
     ],
     "language": "python",
     "metadata": {},
     "outputs": [],
     "prompt_number": 3
    },
    {
     "cell_type": "code",
     "collapsed": false,
     "input": [
      "plotting.set_plotting_defaults()\n",
      "FIG_DIR = \"/Users/shnayder/dissertation/tex/thesis/figures/ch3\""
     ],
     "language": "python",
     "metadata": {},
     "outputs": [],
     "prompt_number": 4
    },
    {
     "cell_type": "markdown",
     "metadata": {},
     "source": [
      "## Define parametrized models\n",
      "\n",
      "Parameters to vary:\n",
      "- prior\n",
      "- correlation\n",
      "\n",
      "So, let's define an ordinal model, with a given true-state prior, and a single noise parameter. Raf had one at some point.\n",
      "\n",
      "prior, normalize(prior + exp(-b*distance(i,j)))"
     ]
    },
    {
     "cell_type": "code",
     "collapsed": false,
     "input": [
      "def make_world(prior, agreement):\n",
      "    \"\"\"\n",
      "    Args:\n",
      "        prior: state prior, must sum to 1\n",
      "        agreement: how much peers agree -- 0 means totally noisy, \n",
      "            ~5 is the practical max for almost 100% agreement.\n",
      "    \"\"\"\n",
      "    n = len(prior)\n",
      "    \n",
      "    def ordinal_cond(t):\n",
      "        \"\"\"Make an ordinal conditional given true type t\"\"\"\n",
      "        unnormed = np.array([math.exp(-agreement * abs(t-i))\n",
      "                    for i in range(n)])\n",
      "        # drop last element because the World constructor likes it that way\n",
      "        return md.normalize(unnormed)[:-1]\n",
      "    \n",
      "    cond = [ordinal_cond(t) for t in range(n)]\n",
      "    return wd.multisignal_world_alt(prior[:-1], cond)\n",
      "\n",
      "print make_world([0.1,0.2,0.3,0.4], 5)"
     ],
     "language": "python",
     "metadata": {},
     "outputs": [
      {
       "output_type": "stream",
       "stream": "stdout",
       "text": [
        "Priors:\n",
        " 0.1,  0.2,  0.3,  0.4\n",
        "Conditionals:\n",
        "0.99, 0.0066, 4.5e-05, 3e-07\n",
        "0.0067, 0.99, 0.0066, 4.5e-05\n",
        "4.5e-05, 0.0066, 0.99, 0.0067\n",
        "3e-07, 4.5e-05, 0.0066, 0.99\n",
        "\n"
       ]
      }
     ],
     "prompt_number": 5
    },
    {
     "cell_type": "markdown",
     "metadata": {},
     "source": [
      "Let's look at some simple priors. I wonder if there's a good way to parametrize how non-uniform a prior is (ahh yes--entropy). We'll start with k=3."
     ]
    },
    {
     "cell_type": "code",
     "collapsed": false,
     "input": [
      "priors = [[0.333,0.333,0.334],\n",
      "          [0.25,0.35,0.4],\n",
      "          [0.15,0.25,0.6],\n",
      "          [0.1,0.05,0.85]]"
     ],
     "language": "python",
     "metadata": {},
     "outputs": [],
     "prompt_number": 6
    },
    {
     "cell_type": "code",
     "collapsed": false,
     "input": [
      "for prior in priors:\n",
      "#    ind_joint = md.independent_joint(prior, prior)\n",
      "    print \"prior: {} : entropy {} \".format(prior, scipy.stats.entropy(prior))"
     ],
     "language": "python",
     "metadata": {},
     "outputs": [
      {
       "output_type": "stream",
       "stream": "stdout",
       "text": [
        "prior: [0.333, 0.333, 0.334] : entropy 1.098611289 \n",
        "prior: [0.25, 0.35, 0.4] : entropy 1.0805276266 \n",
        "prior: [0.15, 0.25, 0.6] : entropy 0.937636962272 \n",
        "prior: [0.1, 0.05, 0.85] : entropy 0.51818621305 \n"
       ]
      }
     ],
     "prompt_number": 7
    },
    {
     "cell_type": "code",
     "collapsed": false,
     "input": [
      "def exp_01_score(prior, agreement):\n",
      "    world = make_world(prior, agreement)\n",
      "    joint = world.joint_matrix()\n",
      "    delta = md.delta_from_joint(joint)\n",
      "    return md.expected_01_score(delta)\n",
      "\n",
      "xs = np.arange(0,5,0.1)\n",
      "fig, ax = plt.subplots()\n",
      "for i, prior in enumerate(priors):\n",
      "    ys = [exp_01_score(prior, x) for x in xs]\n",
      "    ax.plot(xs, ys, label=str(i))\n",
      "\n",
      "ax.legend(loc='best')"
     ],
     "language": "python",
     "metadata": {},
     "outputs": [
      {
       "metadata": {},
       "output_type": "pyout",
       "prompt_number": 8,
       "text": [
        "<matplotlib.legend.Legend at 0x108307890>"
       ]
      },
      {
       "metadata": {},
       "output_type": "display_data",
       "png": "[encoded data removed]",
       "text": [
        "<matplotlib.figure.Figure at 0x108267d90>"
       ]
      }
     ],
     "prompt_number": 8
    },
    {
     "cell_type": "markdown",
     "metadata": {},
     "source": [
      "as expected, lower entropy worlds have lower max scores. need to estimate agreement vals for observed joints...\n",
      "\n",
      "also curious to look at other distance measures -- e.g. KL div\n",
      "\n",
      "this does suggest that with known priors, could scale scores up, still with a max (think through more carefully)"
     ]
    },
    {
     "cell_type": "markdown",
     "metadata": {},
     "source": [
      "## Max possible scores\n",
      "\n",
      "Let's load the actual observed signal priors, and look at the max 01 score possible for each, if there was 100% agreement (this is also a kind of simulation of the Alice-KLB), and the actual expected 01 score.\n"
     ]
    },
    {
     "cell_type": "code",
     "collapsed": false,
     "input": [
      "data_path = \"/Users/shnayder/dissertation/edx-data/2016-03-14/\"\n",
      "jointfile = data_path + \"signal_joint_20160422.json\"\n",
      "# Load data\n",
      "with open(jointfile, 'r') as f:\n",
      "    # save as an array because keys aren't strings\n",
      "    lst = json.load(f)\n",
      "    signal_joints = dict((tuple(k), np.array(v)) for k,v in lst)\n",
      "    \n",
      "# Filter out models with sizes outside 2-6\n",
      "for k,v in signal_joints.items():\n",
      "    n = v.shape[0]\n",
      "    if n < 2 or n > 6:\n",
      "        del signal_joints[k]"
     ],
     "language": "python",
     "metadata": {},
     "outputs": [],
     "prompt_number": 9
    },
    {
     "cell_type": "code",
     "collapsed": false,
     "input": [
      "# actual, ideal\n",
      "pairs = [(md.expected_01_score(md.delta_from_joint(joint)),\n",
      "          md.expected_01_score(md.delta_from_joint(np.diag(md.prior_from_joint(joint)))))\n",
      "         for joint in signal_joints.values()]\n",
      "actual,ideal = zip(*pairs)\n",
      "\n",
      "# decided I don't want the scatter plot\n",
      "# fig, ax = plt.subplots()\n",
      "# ax.scatter(actual,ideal, alpha=plotting.DEFAULT_ALPHA*.4, s=1)\n",
      "# ax.set_xlim((0,1))\n",
      "# ax.set_ylim((0,1))\n",
      "# ax.set_xlabel(\"actual\")\n",
      "# ax.set_ylabel(\"ideal\")\n",
      "\n",
      "# sns.despine(fig)\n",
      "# plotting.set_width(fig, \"half\")\n",
      "# plotting.save_figure(fig, \"expected_01_scores_actual_ideal_scatter.pdf\")\n",
      "\n",
      "# And now plot the two as histograms\n",
      "fig, ax = plt.subplots()\n",
      "ax.hist((actual,ideal),bins=20, label=(\"actual\",\"ideal\"), alpha=plotting.DEFAULT_ALPHA)\n",
      "ax.set_title(\"CA\")\n",
      "ax.set_xlim((0,0.9))\n",
      "ax.yaxis.set_major_locator( plt.MultipleLocator(200))\n",
      "ax.xaxis.set_major_locator( plt.MultipleLocator(0.2))\n",
      "ax.axvline(0.5, c='gray', ls='--', lw=1, #label=\"uninformed score\",\n",
      "               alpha=plotting.DEFAULT_ALPHA)\n",
      "\n",
      "ax.legend(loc='best')\n",
      "#ax.set_title('Expected CA scores')\n",
      "\n",
      "sns.despine(fig)\n",
      "plotting.set_width(fig, \"half\")\n",
      "plotting.save_figure(fig, \"expected_01_scores_actual_ideal_hists.pdf\")"
     ],
     "language": "python",
     "metadata": {},
     "outputs": [
      {
       "metadata": {},
       "output_type": "display_data",
       "png": "[encoded data removed]",
       "text": [
        "<matplotlib.figure.Figure at 0x109abc690>"
       ]
      }
     ],
     "prompt_number": 40
    },
    {
     "cell_type": "code",
     "collapsed": false,
     "input": [
      "# actual, ideal\n",
      "pairs = [(md.expected_rpts_score(joint),\n",
      "          md.expected_rpts_score(np.diag(md.prior_from_joint(joint))))\n",
      "         for joint in signal_joints.values()]\n",
      "actual,ideal = zip(*pairs)\n",
      "\n",
      "# And now plot the two as histograms\n",
      "fig, ax = plt.subplots()\n",
      "ax.hist((actual,ideal),bins=20, label=(\"actual\",\"ideal\"), alpha=plotting.DEFAULT_ALPHA)\n",
      "ax.legend(loc='best')\n",
      "ax.set_title(\"RPTS\")\n",
      "ax.set_xlim((0,0.9))\n",
      "ax.xaxis.set_major_locator( plt.MultipleLocator(0.2))\n",
      "ax.axvline(0.1, c='gray', ls='--', lw=1, #label=\"uninformed score\",\n",
      "               alpha=plotting.DEFAULT_ALPHA)\n",
      "\n",
      "#ax.set_title('Expected CA scores')\n",
      "\n",
      "sns.despine(fig)\n",
      "plotting.set_width(fig, \"half\")\n",
      "plotting.save_figure(fig, \"expected_rpts_scores_actual_ideal_hists.pdf\")"
     ],
     "language": "python",
     "metadata": {},
     "outputs": [
      {
       "metadata": {},
       "output_type": "display_data",
       "png": "[encoded data removed]",
       "text": [
        "<matplotlib.figure.Figure at 0x109f36c10>"
       ]
      }
     ],
     "prompt_number": 41
    },
    {
     "cell_type": "code",
     "collapsed": false,
     "input": [
      "# actual, ideal\n",
      "pairs = [(md.expected_kamble_score(joint),\n",
      "          md.expected_kamble_score(np.diag(md.prior_from_joint(joint))))\n",
      "         for joint in signal_joints.values()]\n",
      "actual,ideal = zip(*pairs)\n",
      "\n",
      "# And now plot the two as histograms\n",
      "fig, ax = plt.subplots()\n",
      "ax.hist((actual,ideal),bins=20, label=(\"actual\",\"ideal\"), alpha=plotting.DEFAULT_ALPHA)\n",
      "ax.legend(loc='best')\n",
      "ax.xaxis.set_major_locator( plt.MultipleLocator(0.2))\n",
      "ax.yaxis.set_major_locator( plt.MultipleLocator(200))\n",
      "ax.set_title(\"Kamble\")\n",
      "ax.set_xlim((0,0.9))\n",
      "ax.axvline(0.25, c='gray', ls='--', lw=1, #label=\"uninformed score\",\n",
      "               alpha=plotting.DEFAULT_ALPHA)\n",
      "\n",
      "#ax.set_title('Expected CA scores')\n",
      "\n",
      "sns.despine(fig)\n",
      "plotting.set_width(fig, \"half\")\n",
      "plotting.save_figure(fig, \"expected_kamble_scores_actual_ideal_hists.pdf\")"
     ],
     "language": "python",
     "metadata": {},
     "outputs": [
      {
       "metadata": {},
       "output_type": "display_data",
       "png": "[encoded data removed]",
       "text": [
        "<matplotlib.figure.Figure at 0x109f363d0>"
       ]
      }
     ],
     "prompt_number": 42
    },
    {
     "cell_type": "markdown",
     "metadata": {},
     "source": [
      "So, this suggests there's a lot of room for improvement in training students, rubric design, effort encouragement, and compensating for student bias.\n",
      "\n",
      "Could (but not yet): compute an MLE single-noise-parameter model for each criterion, e.g. uniform noise vs distance-decaying noise as above, see if distance-decaying fits better. Then for the distance decaying one, see what the distribution of parameters is. Ends up making same point as above though."
     ]
    }
   ],
   "metadata": {}
  }
 ]
}