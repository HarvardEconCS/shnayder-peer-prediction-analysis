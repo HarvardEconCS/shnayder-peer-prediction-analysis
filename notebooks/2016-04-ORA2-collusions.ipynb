{
 "metadata": {
  "name": "",
  "signature": "sha256:7535eba0edbb0468e6e057d7a9471394e7ff437b7ea3e7e1994efb5dbcb2706b"
 },
 "nbformat": 3,
 "nbformat_minor": 0,
 "worksheets": [
  {
   "cells": [
    {
     "cell_type": "markdown",
     "metadata": {},
     "source": [
      "# Looking at effects of potential collusion \n",
      "\n",
      "e.g. what happens if some fraction is random, uses an uninformed correlated signal, etc"
     ]
    },
    {
     "cell_type": "markdown",
     "metadata": {},
     "source": [
      "## Setup"
     ]
    },
    {
     "cell_type": "code",
     "collapsed": false,
     "input": [
      "%load_ext autoreload\n",
      "%autoreload 2\n",
      "%matplotlib inline"
     ],
     "language": "python",
     "metadata": {},
     "outputs": [],
     "prompt_number": 1
    },
    {
     "cell_type": "code",
     "collapsed": false,
     "input": [
      "import gzip\n",
      "import json\n",
      "import matplotlib.pyplot as plt\n",
      "import numpy as np\n",
      "import sys\n",
      "\n",
      "from collections import Counter, defaultdict\n",
      "from itertools import chain, groupby\n",
      "from operator import itemgetter\n",
      "from pprint import pprint"
     ],
     "language": "python",
     "metadata": {},
     "outputs": [],
     "prompt_number": 2
    },
    {
     "cell_type": "code",
     "collapsed": false,
     "input": [
      "my_code_dir = \"/Users/shnayder/dissertation/code\"\n",
      "if my_code_dir not in sys.path:\n",
      "    sys.path.append(my_code_dir)\n",
      "\n",
      "import model.delta as md\n",
      "import model.plotting as plotting\n",
      "from model.cache import DirCache \n",
      "import edx_data.edx_data as edx\n",
      "from edx_data.edx_data import (load_assessments, grouper_by_keys, count_iter_items)"
     ],
     "language": "python",
     "metadata": {},
     "outputs": [],
     "prompt_number": 3
    },
    {
     "cell_type": "code",
     "collapsed": false,
     "input": [
      "import seaborn as sns\n",
      "\n",
      "plotting.set_plotting_defaults()\n",
      "FIG_DIR = \"/Users/shnayder/dissertation/tex/thesis/figures/ch3\""
     ],
     "language": "python",
     "metadata": {},
     "outputs": [],
     "prompt_number": 4
    },
    {
     "cell_type": "code",
     "collapsed": false,
     "input": [
      "MECHS = [\"OA\", \"RPTS\", \"01\"]"
     ],
     "language": "python",
     "metadata": {},
     "outputs": [],
     "prompt_number": 5
    },
    {
     "cell_type": "markdown",
     "metadata": {},
     "source": [
      "## Load the data"
     ]
    },
    {
     "cell_type": "code",
     "collapsed": false,
     "input": [
      "data_path = \"/Users/shnayder/dissertation/edx-data/2016-03-14/\"\n",
      "jointfile = data_path + \"signal_joint_20160422.json\"\n",
      "# Load data\n",
      "with open(jointfile, 'r') as f:\n",
      "    # save as an array because keys aren't strings\n",
      "    lst = json.load(f)\n",
      "    signal_joints = dict((tuple(k), np.array(v)) for k,v in lst)\n",
      "    \n",
      "# Filter out models with sizes outside 2-6\n",
      "for k,v in signal_joints.items():\n",
      "    n = v.shape[0]\n",
      "    if n < 2 or n > 6:\n",
      "        del signal_joints[k]"
     ],
     "language": "python",
     "metadata": {},
     "outputs": [],
     "prompt_number": 23
    },
    {
     "cell_type": "markdown",
     "metadata": {},
     "source": [
      "# Effect of random reporting by some fraction"
     ]
    },
    {
     "cell_type": "code",
     "collapsed": false,
     "input": [
      "sample_joint = signal_joints.values()[0]"
     ],
     "language": "python",
     "metadata": {},
     "outputs": [],
     "prompt_number": 24
    },
    {
     "cell_type": "code",
     "collapsed": false,
     "input": [
      "fig, ax = plt.subplots()\n",
      "xs = np.arange(0,1,0.05)\n",
      "\n",
      "c1,c2 = sns.color_palette()[0:2]\n",
      "\n",
      "for i, joint in enumerate(signal_joints.values()[3:4]):\n",
      "    pairs = [md.collusion_exp_scores(joint, [\"truthful\", \"correlated\"], \n",
      "                        [frac_truthful, 1-frac_truthful],\n",
      "                        \"01\")\n",
      "     for frac_truthful in xs]\n",
      "\n",
      "    ys1, ys2 = zip(*pairs)\n",
      "\n",
      "    if i == 0:\n",
      "        ax.plot([],[],label=\"truthful\", color=c1)\n",
      "        ax.plot([],[],label=\"low-effort\", color=c2)\n",
      "\n",
      "    a = plotting.DEFAULT_ALPHA\n",
      "    ax.plot(xs,ys1, color=c1, lw=1.5, alpha=a, ls=plotting.LINESTYLES[i])\n",
      "    ax.plot(xs,ys2, color=c2, lw=1.5, alpha=a, ls=plotting.LINESTYLES[i])\n",
      "\n",
      "ax.set_ylim((0,1))\n",
      "ax.set_xlabel(\"Fraction truthful\")\n",
      "ax.set_ylabel(\"Expected score\")\n",
      "ax.yaxis.set_major_locator( plt.MultipleLocator(0.2))\n",
      "ax.legend(loc=(0.45,0.75))\n",
      "sns.despine(fig)\n",
      "plotting.set_width(fig, \"half\")\n",
      "plotting.save_figure(fig, \"truthful_vs_correlated_scores.pdf\")"
     ],
     "language": "python",
     "metadata": {},
     "outputs": [
      {
       "metadata": {},
       "output_type": "display_data",
       "png": "[encoded data removed]",
       "text": [
        "<matplotlib.figure.Figure at 0x109243450>"
       ]
      }
     ],
     "prompt_number": 35
    },
    {
     "cell_type": "code",
     "collapsed": false,
     "input": [
      "fig, ax = plt.subplots()\n",
      "\n",
      "indiff_points = [md.collusion_indifference_point(joint)\n",
      "                 for joint in signal_joints.values()]\n",
      "\n",
      "ax.hist(indiff_points, bins=20, alpha=plotting.DEFAULT_ALPHA)\n",
      "\n",
      "ax.xaxis.set_major_locator( plt.MultipleLocator(0.2))\n",
      "ax.yaxis.set_major_locator( plt.MultipleLocator(100))\n",
      "\n",
      "ax.set_xlim((0.5,1.0))\n",
      "ax.set_xlabel(\"Fraction truthful at indifference\")\n",
      "ax.set_ylabel(\"Count\")\n",
      "sns.despine(fig)\n",
      "plotting.set_width(fig, \"half\")\n",
      "plotting.save_figure(fig, \"truthful_vs_correlated_indifference.pdf\")\n"
     ],
     "language": "python",
     "metadata": {},
     "outputs": [
      {
       "metadata": {},
       "output_type": "display_data",
       "png": "[encoded data removed]",
       "text": [
        "<matplotlib.figure.Figure at 0x1091b8650>"
       ]
      }
     ],
     "prompt_number": 39
    },
    {
     "cell_type": "markdown",
     "metadata": {},
     "source": [
      "Let's look at how this varies by \"excess correlation\" aka TVD(joint, prod-of-marginals)"
     ]
    },
    {
     "cell_type": "code",
     "collapsed": false,
     "input": [
      "all_joints = sorted(signal_joints.values(), key=md.expected_01_score_joint)\n",
      "bins = 4\n",
      "# integer rounding won't do quite the right thing, but close enough with ~2K elements.\n",
      "k = len(all_joints) / bins"
     ],
     "language": "python",
     "metadata": {},
     "outputs": [],
     "prompt_number": 52
    },
    {
     "cell_type": "code",
     "collapsed": false,
     "input": [
      "fig, axs = plt.subplots(bins, 1, sharex=True)\n",
      "\n",
      "palette = sns.color_palette(\"muted\")\n",
      "palette[2:3] = []\n",
      "\n",
      "for i in range(bins):\n",
      "    m = k*i\n",
      "    M = k*(i+1) if i != bins - 1 else None\n",
      "    indiff_points = [md.collusion_indifference_point(joint)\n",
      "                     for joint in all_joints[m:M]]\n",
      "\n",
      "    ax = axs[i]\n",
      "    ax.hist(indiff_points, bins=10, alpha=plotting.DEFAULT_ALPHA, color=palette[i],\n",
      "            label=\"Quartile {}\".format(i+1))\n",
      "\n",
      "    ax.xaxis.set_major_locator( plt.MultipleLocator(0.1))\n",
      "    ax.yaxis.set_major_locator( plt.MultipleLocator(50))\n",
      "    ax.set_xlim((0.5, 1.0))\n",
      "    #ax.legend(loc=(0.0,0.6))\n",
      "    ax.text(0.05, 0.8, \"Quartile {}\".format(i+1), transform=ax.transAxes)\n",
      "    \n",
      "    if i == bins - 1:\n",
      "        ax.set_xlabel(\"Fraction truthful at indifference\")\n",
      "    ax.set_ylabel(\"Count\")\n",
      "\n",
      "    sns.despine(fig)\n",
      "\n",
      "fig.subplots_adjust(hspace=0.1)\n",
      "\n",
      "plotting.set_width(fig, \"half\", height_ratio=1.5)\n",
      "plotting.save_figure(fig, \"truthful_vs_correlated_indifference_quartiles.pdf\")\n"
     ],
     "language": "python",
     "metadata": {},
     "outputs": [
      {
       "metadata": {},
       "output_type": "display_data",
       "png": "[encoded data removed]",
       "text": [
        "<matplotlib.figure.Figure at 0x10a13de90>"
       ]
      }
     ],
     "prompt_number": 77
    },
    {
     "cell_type": "markdown",
     "metadata": {},
     "source": [
      "What about with non-uniform priors?"
     ]
    },
    {
     "cell_type": "code",
     "collapsed": false,
     "input": [
      "def corr_prior_for_joint(joint):\n",
      "    \"\"\"\n",
      "    Return a correlated prior for a particular joint distribution.\n",
      "    Just uses size.\n",
      "    \"\"\"\n",
      "    n = joint.shape[0]\n",
      "    return {2: [0.2, 0.8],\n",
      "            3: [0.2, 0.3, 0.5],\n",
      "            4: [0.15, 0.15, 0.2, 0.5],\n",
      "            5: [0.15,0.1, 0.15,0.2,0.4],\n",
      "            6: [0.1, 0.1, 0.15, 0.1, 0.15, 0.4]}[n]"
     ],
     "language": "python",
     "metadata": {},
     "outputs": [],
     "prompt_number": 51
    },
    {
     "cell_type": "code",
     "collapsed": false,
     "input": [
      "fig, ax = plt.subplots()\n",
      "\n",
      "indiff_points_non_u = [md.collusion_indifference_point(joint, corr_prior_for_joint(joint))\n",
      "                 for joint in signal_joints.values()]\n",
      "\n",
      "ax.hist((indiff_points, indiff_points_non_u), bins=20, alpha=plotting.DEFAULT_ALPHA)\n",
      "\n",
      "ax.xaxis.set_major_locator( plt.MultipleLocator(0.2))\n",
      "ax.yaxis.set_major_locator( plt.MultipleLocator(100))\n",
      "\n",
      "ax.set_xlabel(\"Fraction truthful at indifference\")\n",
      "ax.set_ylabel(\"Count\")\n",
      "sns.despine(fig)\n",
      "plotting.set_width(fig, \"half\")\n",
      "#plotting.save_figure(fig, \"truthful_vs_correlated_indifference_non_unif.pdf\")\n"
     ],
     "language": "python",
     "metadata": {},
     "outputs": [
      {
       "metadata": {},
       "output_type": "display_data",
       "png": "[encoded data removed]",
       "text": [
        "<matplotlib.figure.Figure at 0x11cc6c1d0>"
       ]
      }
     ],
     "prompt_number": 54
    },
    {
     "cell_type": "markdown",
     "metadata": {},
     "source": [
      "So it's not super sensitive to how uniform the prior is, as long as it's not too extreme. Unfortunate :P. I guess the most likely solution would be spot checking and complaints for low scores, Mechanical-TA style. Another semi-solution is that here, all students are assumed to agree on a single low-quality correlation signal, which is not out of the question, but seems a bit difficult to do without tipping off the course teams (e.g. by discussing it in the course forum)."
     ]
    }
   ],
   "metadata": {}
  }
 ]
}