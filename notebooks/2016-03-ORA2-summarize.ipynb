{
 "metadata": {
  "name": "",
  "signature": "sha256:f979f2fd7d767e77a910757c03948780470cc2f993b90ae8821b8b4501c88ce3"
 },
 "nbformat": 3,
 "nbformat_minor": 0,
 "worksheets": [
  {
   "cells": [
    {
     "cell_type": "markdown",
     "metadata": {},
     "source": [
      "# Initial processing\n",
      "\n",
      "Do initial processing of assessments -- pull out just peer assessments, just the latest, normalize scores, etc.\n",
      "Write out simplified data."
     ]
    },
    {
     "cell_type": "markdown",
     "metadata": {},
     "source": [
      "## Setup"
     ]
    },
    {
     "cell_type": "code",
     "collapsed": false,
     "input": [
      "%load_ext autoreload\n",
      "%autoreload 2\n",
      "%matplotlib inline"
     ],
     "language": "python",
     "metadata": {},
     "outputs": [
      {
       "output_type": "stream",
       "stream": "stdout",
       "text": [
        "The autoreload extension is already loaded. To reload it, use:\n",
        "  %reload_ext autoreload\n"
       ]
      }
     ],
     "prompt_number": 32
    },
    {
     "cell_type": "code",
     "collapsed": false,
     "input": [
      "import gzip\n",
      "import json\n",
      "import matplotlib.pyplot as plt\n",
      "import matplotlib as mpl\n",
      "import numpy as np\n",
      "import scipy.stats\n",
      "import sys\n",
      "\n",
      "import seaborn as sns\n",
      "\n",
      "from collections import Counter, defaultdict\n",
      "from itertools import chain, groupby\n",
      "from operator import itemgetter\n",
      "from pprint import pprint\n"
     ],
     "language": "python",
     "metadata": {},
     "outputs": [],
     "prompt_number": 33
    },
    {
     "cell_type": "code",
     "collapsed": false,
     "input": [
      "my_code_dir = \"/Users/shnayder/dissertation/code\"\n",
      "if my_code_dir not in sys.path:\n",
      "    sys.path.append(my_code_dir)\n",
      "\n",
      "import model.delta as md\n",
      "import model.plotting as plotting\n",
      "import edx_data.edx_data as edx\n",
      "from edx_data.edx_data import (load_assessments, grouper_by_keys, count_iter_items)"
     ],
     "language": "python",
     "metadata": {},
     "outputs": [],
     "prompt_number": 34
    },
    {
     "cell_type": "code",
     "collapsed": false,
     "input": [
      "plotting.set_plotting_defaults()\n",
      "FIG_DIR = \"/Users/shnayder/dissertation/tex/thesis/figures/ch3\""
     ],
     "language": "python",
     "metadata": {},
     "outputs": [],
     "prompt_number": 35
    },
    {
     "cell_type": "markdown",
     "metadata": {},
     "source": [
      "## Load the data"
     ]
    },
    {
     "cell_type": "code",
     "collapsed": false,
     "input": [
      "TEST = False\n",
      "data_path = \"/Users/shnayder/dissertation/edx-data/2016-03-14/\"\n",
      "if TEST:\n",
      "    filename = data_path + 'test-simplified.csv.gz'\n",
      "else:\n",
      "    filename = data_path + 'simplified.csv.gz'"
     ],
     "language": "python",
     "metadata": {},
     "outputs": [],
     "prompt_number": 36
    },
    {
     "cell_type": "code",
     "collapsed": true,
     "input": [
      "assessments = load_assessments(filename, assume_clean=True)"
     ],
     "language": "python",
     "metadata": {},
     "outputs": [],
     "prompt_number": 5
    },
    {
     "cell_type": "code",
     "collapsed": false,
     "input": [
      "assessments[0]._fields"
     ],
     "language": "python",
     "metadata": {},
     "outputs": [
      {
       "metadata": {},
       "output_type": "pyout",
       "prompt_number": 8,
       "text": [
        "('course_id',\n",
        " 'item_id',\n",
        " 'student_id',\n",
        " 'submission_uuid',\n",
        " 'score_type',\n",
        " 'scorer_id',\n",
        " 'scored_at',\n",
        " 'criterion_name',\n",
        " 'option_name',\n",
        " 'points',\n",
        " 'len_criterion_feedback',\n",
        " 'len_overall_feedback')"
       ]
      }
     ],
     "prompt_number": 8
    },
    {
     "cell_type": "code",
     "collapsed": false,
     "input": [
      "by_criterion = grouper_by_keys(\"course_id\", \"item_id\", \"criterion_name\")\n",
      "assessments.sort(key=by_criterion)"
     ],
     "language": "python",
     "metadata": {},
     "outputs": [],
     "prompt_number": 6
    },
    {
     "cell_type": "markdown",
     "metadata": {},
     "source": [
      "### # of submissions by question, by submission"
     ]
    },
    {
     "cell_type": "code",
     "collapsed": false,
     "input": [
      "def criterion_hist(assessments):\n",
      "    \"\"\"\n",
      "    Args:\n",
      "        assessments: list of assessments, must be sorted by criterion.\n",
      "    \n",
      "    Return a distribution (list) of num assessments per criterion, ready for plotting.\n",
      "    \"\"\"\n",
      "    return [count_iter_items(xs) for k, xs in groupby(assessments, key=by_criterion)]\n",
      "\n",
      "def counts_by_fn(assessments, key):\n",
      "    copy = sorted(assessments, key=key)\n",
      "    return Counter(count_iter_items(xs) for k, xs in groupby(copy, key=key))\n",
      "\n",
      "def criterion_submission_hist(assessments):\n",
      "    \"\"\"\n",
      "    Args:\n",
      "        assessments: list of assessments. must be sorted by criterion.\n",
      "\n",
      "    Returns counts of number of assessment per submission/criterion: e.g.\n",
      "       {1: 100, 2: 3407, 3: 2462, 4: ...}\n",
      "    \"\"\"\n",
      "    key=itemgetter(3,7) # submission_uuid, criterion_name\n",
      "    \n",
      "    # Note: this will count questions with more criteria more -- so it makes sense for \n",
      "    # treating each criterion as a separate question, but not if we really want to know \n",
      "    # the number of assessments per unique submission.\n",
      "    return counts_by_fn(assessments, key)"
     ],
     "language": "python",
     "metadata": {},
     "outputs": [],
     "prompt_number": 7
    },
    {
     "cell_type": "code",
     "collapsed": false,
     "input": [
      "def assessments_by_submission_hist(assessments):\n",
      "    \"\"\"\n",
      "    Returns counts of number of assessments per submission, combining \n",
      "    all criteria into one.\n",
      "    \"\"\"\n",
      "    key = itemgetter(3,5)  # submission_uuid, scorer_id\n",
      "    # each unique key is an assessment for that submission_uuid\n",
      "    uniques = set(map(key, assessments))\n",
      "    # Now we want to count how many scorer ids per submission_uuid\n",
      "    return Counter(count_iter_items(xs) for k, xs in groupby(sorted(uniques), key=itemgetter(0)))\n",
      "\n",
      "def submission_per_scorer_hist(assessments):\n",
      "    \"\"\"\n",
      "    Returns counts of number of assessments per scorer for each question (aka item),\n",
      "    combining all criteria into one.\n",
      "    \"\"\"\n",
      "    key = itemgetter(5,1,3)  # scorer_id, item_id, submission_uuid\n",
      "    # each unique key is an assessment for that submission_uuid\n",
      "    uniques = set(map(key, assessments))\n",
      "    # Now we want to count how many submission_uuids per scorer id\n",
      "    return Counter(count_iter_items(xs) \n",
      "                   for k, xs in groupby(sorted(uniques), key=itemgetter(0,1)))\n",
      "    "
     ],
     "language": "python",
     "metadata": {},
     "outputs": [],
     "prompt_number": 8
    },
    {
     "cell_type": "code",
     "collapsed": true,
     "input": [
      "by_crit = criterion_hist(assessments)"
     ],
     "language": "python",
     "metadata": {},
     "outputs": [],
     "prompt_number": 12
    },
    {
     "cell_type": "code",
     "collapsed": false,
     "input": [
      "assess_by_sub = assessments_by_submission_hist(assessments)"
     ],
     "language": "python",
     "metadata": {},
     "outputs": [],
     "prompt_number": 13
    },
    {
     "cell_type": "code",
     "collapsed": false,
     "input": [
      "assess_by_sub"
     ],
     "language": "python",
     "metadata": {},
     "outputs": [
      {
       "metadata": {},
       "output_type": "pyout",
       "prompt_number": 14,
       "text": [
        "Counter({3: 136515, 2: 73558, 4: 55482, 5: 33438, 6: 17661, 1: 12822, 7: 9947, 8: 5671, 9: 3373, 10: 2100, 11: 1333, 12: 871, 13: 546, 14: 367, 15: 226, 16: 160, 17: 91, 18: 61, 19: 42, 20: 23, 21: 15, 22: 3, 24: 3, 23: 2, 25: 1, 26: 1})"
       ]
      }
     ],
     "prompt_number": 14
    },
    {
     "cell_type": "markdown",
     "metadata": {},
     "source": [
      "### Num criteria"
     ]
    },
    {
     "cell_type": "code",
     "collapsed": false,
     "input": [
      "len(by_crit)"
     ],
     "language": "python",
     "metadata": {},
     "outputs": [
      {
       "metadata": {},
       "output_type": "pyout",
       "prompt_number": 15,
       "text": [
        "1983"
       ]
      }
     ],
     "prompt_number": 15
    },
    {
     "cell_type": "code",
     "collapsed": false,
     "input": [
      "def plot_hist(data, title=\"\", fig_kwargs=None, **kwargs):\n",
      "    if fig_kwargs is None:\n",
      "        fig_kwargs = {}\n",
      "    fig, ax = plt.subplots(**fig_kwargs)\n",
      "    w = 1\n",
      "    xs = [x - (1-w)/2.0 for x in range(1,len(data)+1)]\n",
      "    ax.bar(xs, sorted(data), w, \n",
      "           alpha=plotting.DEFAULT_ALPHA,\n",
      "           lw=0,log=kwargs.get('log', False),aa=True)\n",
      "    ax.set_title(title)\n",
      "    return fig, ax"
     ],
     "language": "python",
     "metadata": {},
     "outputs": [],
     "prompt_number": 16
    },
    {
     "cell_type": "code",
     "collapsed": false,
     "input": [
      "def plot_counts(ax, xs, ys, **kwargs):\n",
      "    \"\"\"\n",
      "    Assume xs are ints, shift them left width/2.\n",
      "    Make sure ticks are only at integers.\n",
      "    \"\"\"\n",
      "    n = len(ys)\n",
      "    tick_freq = max(1, n/5)\n",
      "    ax.xaxis.set_major_locator( plt.MultipleLocator(tick_freq))\n",
      "    width = kwargs.get('width', 0.8)\n",
      "    new_xs = [x - width/2.0 for x in xs]\n",
      "    ax.bar(new_xs, ys, alpha=plotting.DEFAULT_ALPHA, **kwargs)\n",
      "    ax.set_xlim((min(new_xs)-0.1, max(new_xs)+ width + 0.1))\n",
      "    # Hide the right and top spines\n",
      "    ax.spines['right'].set_visible(False)\n",
      "    ax.spines['top'].set_visible(False)\n",
      "\n",
      "    # Only show ticks on the left and bottom spines\n",
      "    ax.yaxis.set_ticks_position('none')\n",
      "    ax.xaxis.set_ticks_position('none')"
     ],
     "language": "python",
     "metadata": {},
     "outputs": [],
     "prompt_number": 17
    },
    {
     "cell_type": "code",
     "collapsed": false,
     "input": [
      "def plot_stacked_bars(ax, xs, yss, colors, labels, **kwargs):\n",
      "    \"\"\"\n",
      "    Args:\n",
      "        ax -- axes to plot on\n",
      "        xs -- x labels\n",
      "        yss -- list of lists of y heights\n",
      "        colors -- list of colors, must match up with yss\n",
      "        labels -- what to label each color, again must match up with yss\n",
      "        kwargs -- passed through to plot.bar()\n",
      "    \"\"\"\n",
      "    bottom = [0 for i in xs]\n",
      "    for ys, color, label in zip(yss, colors, labels):\n",
      "        plot_counts(ax, xs, ys, color=color, label=label, bottom=bottom, **kwargs)\n",
      "        # update the bottom of the bars\n",
      "        bottom = [b + y for b,y in zip(bottom, ys)]"
     ],
     "language": "python",
     "metadata": {},
     "outputs": [],
     "prompt_number": 18
    },
    {
     "cell_type": "code",
     "collapsed": false,
     "input": [
      "def plot_cdf(counts, title=\"\", ax=None, fig_kwargs=None, **kwargs):\n",
      "    \"\"\"\n",
      "    Given a counter dict (e.g. {1:3, 4:7, 2:5}),\n",
      "    plot a corresponding cdf (e.g. for 1 1 1 2 2 2 2 2 4 4 4 4 4 4 4).\n",
      "    Example points: (0,0), (0,1), (3,1), (3,4), (8,4), (11,), ()\n",
      "    \"\"\"\n",
      "    # (1,3), (2,5), (4,7)\n",
      "    pairs = sorted(counts.items())\n",
      "    \n",
      "    # (1,2,4), (3,5,7)\n",
      "    vals, widths = zip(*pairs)\n",
      "    \n",
      "    # 0,3,8,15\n",
      "    lefts = [sum(widths[:k]) for k in range(len(widths)+1)]\n",
      "    # duplicate the last element\n",
      "    vals = vals + (vals[-1],)\n",
      "    \n",
      "    #print lefts, vals, widths\n",
      "\n",
      "    if ax is None:\n",
      "        if fig_kwargs is None:\n",
      "            fig_kwargs = {}\n",
      "        fig, ax = plt.subplots(**fig_kwargs)\n",
      "    \n",
      "    ax.step(vals, lefts, where='pre', alpha=plotting.DEFAULT_ALPHA)\n",
      "    if kwargs.get('log'):\n",
      "        ax.set_yscale('log')\n",
      "    ax.set_title(title)\n",
      "    ax.set_xlim(xmin=0)\n",
      "    \n",
      "    # Hide the right and top spines\n",
      "    ax.spines['right'].set_visible(False)\n",
      "    ax.spines['top'].set_visible(False)\n",
      "\n",
      "    # Only show ticks on the left and bottom spines\n",
      "    ax.yaxis.set_ticks_position('none')\n",
      "    ax.xaxis.set_ticks_position('none')\n",
      "    return ax\n",
      "   \n",
      "#plot_cdf({1:3,4:7,2:5}, \"A title\")"
     ],
     "language": "python",
     "metadata": {},
     "outputs": [],
     "prompt_number": 19
    },
    {
     "cell_type": "code",
     "collapsed": false,
     "input": [
      "def save_figure(fig, filename):\n",
      "    \"\"\"\n",
      "    Save fig in FIG_DIR/filename, with bbox_inches=tight\n",
      "    \"\"\"\n",
      "    fig.tight_layout()\n",
      "    fig.savefig(FIG_DIR + \"/\" + filename) #, bbox_inches='tight')\n"
     ],
     "language": "python",
     "metadata": {},
     "outputs": [],
     "prompt_number": 37
    },
    {
     "cell_type": "code",
     "collapsed": false,
     "input": [
      "fig, ax = plot_hist(by_crit, \"# Assessments / criterion\", log=True)"
     ],
     "language": "python",
     "metadata": {},
     "outputs": [
      {
       "metadata": {},
       "output_type": "display_data",
       "png": "[encoded data removed]",
       "text": [
        "<matplotlib.figure.Figure at 0x175ed3210>"
       ]
      }
     ],
     "prompt_number": 21
    },
    {
     "cell_type": "code",
     "collapsed": false,
     "input": [
      "ax = plot_cdf(Counter(by_crit), \"# Assessments / criterion\")"
     ],
     "language": "python",
     "metadata": {},
     "outputs": [
      {
       "metadata": {},
       "output_type": "display_data",
       "png": "[encoded data removed]",
       "text": [
        "<matplotlib.figure.Figure at 0x175ed3110>"
       ]
      }
     ],
     "prompt_number": 22
    },
    {
     "cell_type": "code",
     "collapsed": false,
     "input": [
      "np.mean(by_crit)"
     ],
     "language": "python",
     "metadata": {},
     "outputs": [
      {
       "metadata": {},
       "output_type": "pyout",
       "prompt_number": 23,
       "text": [
        "1558.4730206757438"
       ]
      }
     ],
     "prompt_number": 23
    },
    {
     "cell_type": "code",
     "collapsed": false,
     "input": [
      "\n",
      "fig, ax = plt.subplots()\n",
      "ax.hist(by_crit, bins=50, log=True, alpha=plotting.DEFAULT_ALPHA)\n",
      "#ax.set_title(\"# assessments / criterion\")\n",
      "sns.despine(fig)\n",
      "plotting.set_width(fig, \"half\")\n",
      "ax.set_xlim((0,26000))\n",
      "ax.set_xticks(range(0,26000,5000))\n",
      "ax.set_xticklabels(range(0,26,5))\n",
      "ax.set_xlabel(\"Number of assessments (1000s)\")\n",
      "ax.set_yticks([1,10,100,1000])\n",
      "ax.set_yticklabels([\"1\",\"10\",\"100\",\"1000\"])\n",
      "ax.set_ylabel(\"Count\")\n",
      "ax.axvline(np.mean(by_crit), c='gray', lw=1, ls='--', label='mean')\n",
      "ax.legend(loc='upper right')\n",
      "save_figure(fig, \"assessments_per_criterion_hist.pdf\")"
     ],
     "language": "python",
     "metadata": {},
     "outputs": [
      {
       "metadata": {},
       "output_type": "display_data",
       "png": "[encoded data removed]",
       "text": [
        "<matplotlib.figure.Figure at 0x177008810>"
       ]
      }
     ],
     "prompt_number": 24
    },
    {
     "cell_type": "code",
     "collapsed": false,
     "input": [
      "np.median(by_crit)"
     ],
     "language": "python",
     "metadata": {},
     "outputs": [
      {
       "metadata": {},
       "output_type": "pyout",
       "prompt_number": 25,
       "text": [
        "733.0"
       ]
      }
     ],
     "prompt_number": 25
    },
    {
     "cell_type": "code",
     "collapsed": false,
     "input": [
      "# by_sub = ???\n",
      "# plot_cdf(by_sub, \"# Assessments / submission criterion\")"
     ],
     "language": "python",
     "metadata": {},
     "outputs": [],
     "prompt_number": 26
    },
    {
     "cell_type": "code",
     "collapsed": false,
     "input": [
      "plot_cdf(assess_by_sub, \"# assessments / submission\")"
     ],
     "language": "python",
     "metadata": {},
     "outputs": [
      {
       "metadata": {},
       "output_type": "pyout",
       "prompt_number": 26,
       "text": [
        "<matplotlib.axes._subplots.AxesSubplot at 0x1768fb190>"
       ]
      },
      {
       "metadata": {},
       "output_type": "display_data",
       "png": "[encoded data removed]",
       "text": [
        "<matplotlib.figure.Figure at 0x176beaa90>"
       ]
      }
     ],
     "prompt_number": 26
    },
    {
     "cell_type": "markdown",
     "metadata": {},
     "source": [
      "Looks like the bias in looking at assessments / submission vs per submission+criterion doesn't really matter -- suggests that distribution of # depends mostly on our assignment mechanism and/or that most courses are configured with same params in terms of assessors."
     ]
    },
    {
     "cell_type": "code",
     "collapsed": false,
     "input": [
      "subs_per_scorer = submission_per_scorer_hist(assessments)"
     ],
     "language": "python",
     "metadata": {},
     "outputs": [],
     "prompt_number": 27
    },
    {
     "cell_type": "code",
     "collapsed": false,
     "input": [
      "plot_cdf(subs_per_scorer, \"# submissions per scorer\")"
     ],
     "language": "python",
     "metadata": {},
     "outputs": [
      {
       "metadata": {},
       "output_type": "pyout",
       "prompt_number": 28,
       "text": [
        "<matplotlib.axes._subplots.AxesSubplot at 0x177be9b10>"
       ]
      },
      {
       "metadata": {},
       "output_type": "display_data",
       "png": "[encoded data removed]",
       "text": [
        "<matplotlib.figure.Figure at 0x178229390>"
       ]
      }
     ],
     "prompt_number": 28
    },
    {
     "cell_type": "markdown",
     "metadata": {},
     "source": [
      "Well that doesn't look very good. Better below."
     ]
    },
    {
     "cell_type": "code",
     "collapsed": false,
     "input": [
      "def smoosh_end(counter, max_key):\n",
      "    \"\"\"\n",
      "    Put all counts >= max_key into max_key\n",
      "    \"\"\"\n",
      "    bigger_count = sum([v for k,v in counter.items() if k >= max_key])\n",
      "    t = dict([(k,v) for k,v in counter.items() if k < max_key])\n",
      "    if bigger_count > 0:\n",
      "        t[max_key] = bigger_count\n",
      "    return Counter(t)"
     ],
     "language": "python",
     "metadata": {},
     "outputs": [],
     "prompt_number": 29
    },
    {
     "cell_type": "code",
     "collapsed": false,
     "input": [
      "smooshed = smoosh_end(subs_per_scorer, 8)\n",
      "ns, counts = zip(*sorted(smooshed.items()))\n",
      "fig, ax = plt.subplots()\n",
      "plot_counts(ax, ns, counts, width=0.8)\n",
      "\n",
      "# change \"8\" to \"8+\" in the xticks\n",
      "labels = ax.get_xticks().tolist()\n",
      "labels[8] = '8+'\n",
      "# for some reason just resetting one label makes all the others floats\n",
      "# Just fix it.\n",
      "labels[1:8] = map(str, range(1,8))\n",
      "ax.set_xticklabels(labels)\n",
      "ax.set_xlabel(\"Submissions assessed per scorer\")\n",
      "ax.set_yticks([40000, 80000, 120000])\n",
      "ax.set_yticklabels([40,80,120])\n",
      "ax.set_ylabel(\"Count (1000s)\")\n",
      "\n",
      "\n",
      "ax.axvline(md.counter_mean(smooshed), c='gray', lw=1, ls='--', label='mean')\n",
      "ax.legend(loc=(.6,.7))\n",
      "\n",
      "\n",
      "plotting.set_width(fig, \"half\")\n",
      "filename = \"subs_per_scorer.pdf\"\n",
      "save_figure(fig, filename)"
     ],
     "language": "python",
     "metadata": {},
     "outputs": [
      {
       "metadata": {},
       "output_type": "display_data",
       "png": "[encoded data removed]",
       "text": [
        "<matplotlib.figure.Figure at 0x17997c6d0>"
       ]
      }
     ],
     "prompt_number": 30
    },
    {
     "cell_type": "markdown",
     "metadata": {},
     "source": [
      "### Basic summary:\n",
      "\n",
      "- number of courses\n",
      "- number of questions per course\n",
      "- number of criteria per question"
     ]
    },
    {
     "cell_type": "code",
     "collapsed": false,
     "input": [
      "def num_courses(criteria):\n",
      "    \"\"\"\n",
      "    criteria: list of (course_id, item_id, criterion_name) tuples\n",
      "    Returns a count.\n",
      "    \"\"\"\n",
      "    return len(set(map(itemgetter(0), criteria)))\n",
      "\n",
      "def questions_per_course(criteria):\n",
      "    \"\"\"\n",
      "    Returns dict: course_id -> number of questions\n",
      "    \"\"\"\n",
      "    ks = sorted(criteria)\n",
      "    d = {}\n",
      "    for k, group in groupby(ks, key=itemgetter(0)):\n",
      "        d[k] = len(set(item_id for (_, item_id, _) in group))\n",
      "    return d\n",
      "\n",
      "def criteria_per_question(criteria):\n",
      "    \"\"\"\n",
      "    Returns list of counts\n",
      "    \"\"\"\n",
      "    ks = sorted(criteria)\n",
      "\n",
      "    return [len(list(group))\n",
      "            for k, group in groupby(ks, key=lambda t: (t[0],t[1]))]"
     ],
     "language": "python",
     "metadata": {},
     "outputs": [],
     "prompt_number": 31
    },
    {
     "cell_type": "code",
     "collapsed": false,
     "input": [
      "criteria = set(map(by_criterion, assessments))"
     ],
     "language": "python",
     "metadata": {},
     "outputs": [],
     "prompt_number": 32
    },
    {
     "cell_type": "code",
     "collapsed": false,
     "input": [
      "print \"Num assessments: \", len(assessments)\n",
      "print \"Num submissions: \", len(\n",
      "    set([a.submission_uuid for a in assessments]))"
     ],
     "language": "python",
     "metadata": {},
     "outputs": [
      {
       "output_type": "stream",
       "stream": "stdout",
       "text": [
        "Num assessments:  3090452\n",
        "Num submissions:  "
       ]
      },
      {
       "output_type": "stream",
       "stream": "stdout",
       "text": [
        "354312\n"
       ]
      }
     ],
     "prompt_number": 33
    },
    {
     "cell_type": "code",
     "collapsed": false,
     "input": [
      "print \"Num criteria: \", len(criteria)\n",
      "print \"Num questions: \", len(set(map(itemgetter(0,1), criteria)))\n",
      "print \"Num courses: \", num_courses(criteria)"
     ],
     "language": "python",
     "metadata": {},
     "outputs": [
      {
       "output_type": "stream",
       "stream": "stdout",
       "text": [
        "Num criteria:  1983\n",
        "Num questions:  "
       ]
      },
      {
       "output_type": "stream",
       "stream": "stdout",
       "text": [
        "682\n",
        "Num courses:  254\n"
       ]
      }
     ],
     "prompt_number": 34
    },
    {
     "cell_type": "code",
     "collapsed": false,
     "input": [
      "data = questions_per_course(criteria).values()\n",
      "\n",
      "counts = np.bincount(data)\n",
      "k = len(counts)\n",
      "\n",
      "fig, ax = plt.subplots()\n",
      "ax.bar(range(k), counts, width=0.8, align='center', \n",
      "       alpha=plotting.DEFAULT_ALPHA)\n",
      "ax.set(xticks=range(k), xlim=[0.2, 12.5])\n",
      "#ax.set_title(\"# Prompts per course\")\n",
      "ax.set_xlabel(\"Number of prompts\")\n",
      "ax.set_ylabel(\"Count\")\n",
      "\n",
      "ax.axvline(np.mean(data), c='gray', lw=1, ls='--', label='mean')\n",
      "ax.legend(loc='upper right')\n",
      "\n",
      "sns.despine(fig)\n",
      "plotting.set_width(fig, \"half\")\n",
      "save_figure(fig, \"prompts_per_course.pdf\")"
     ],
     "language": "python",
     "metadata": {},
     "outputs": [
      {
       "metadata": {},
       "output_type": "display_data",
       "png": "[encoded data removed]",
       "text": [
        "<matplotlib.figure.Figure at 0x18c400290>"
       ]
      }
     ],
     "prompt_number": 35
    },
    {
     "cell_type": "code",
     "collapsed": false,
     "input": [
      "data = criteria_per_question(criteria)\n",
      "\n",
      "\n",
      "counts = np.bincount(data)\n",
      "k = len(counts)\n",
      "\n",
      "fig, ax = plt.subplots()\n",
      "ax.bar(range(k), counts, width=0.8, align='center',\n",
      "       alpha=plotting.DEFAULT_ALPHA)\n",
      "ax.set(xticks=range(k), xlim=[0.2, 12.5])\n",
      "\n",
      "# fig, ax = plt.subplots()\n",
      "# ax.hist(data, bins=12)\n",
      "# ax.set_xlim(1,12)\n",
      "#ax.set_title(\"# Criteria per prompt\")\n",
      "\n",
      "ax.set_xlabel(\"# Criteria per prompt\")\n",
      "ax.set_ylabel(\"Count\")\n",
      "\n",
      "ax.axvline(np.mean(data), c='gray', lw=1, ls='--', label='mean')\n",
      "ax.legend(loc='upper right')\n",
      "\n",
      "sns.despine(fig)\n",
      "plotting.set_width(fig, \"half\")\n",
      "save_figure(fig, \"criteria_per_question.pdf\")"
     ],
     "language": "python",
     "metadata": {},
     "outputs": [
      {
       "metadata": {},
       "output_type": "display_data",
       "png": "[encoded data removed]",
       "text": [
        "<matplotlib.figure.Figure at 0x183816c90>"
       ]
      }
     ],
     "prompt_number": 36
    },
    {
     "cell_type": "code",
     "collapsed": false,
     "input": [
      "# print questions_per_course(criteria)\n",
      "# print criteria_per_question(criteria)\n",
      "# Old bad plots:\n",
      "#plot_hist(questions_per_course(criteria).values(), \"Num questions per course\")\n",
      "#plot_hist(criteria_per_question(criteria), \"Criteria per question\")"
     ],
     "language": "python",
     "metadata": {},
     "outputs": [],
     "prompt_number": 217
    },
    {
     "cell_type": "markdown",
     "metadata": {},
     "source": [
      "### Compute signal joint for each question, save it for later."
     ]
    },
    {
     "cell_type": "code",
     "collapsed": false,
     "input": [
      "signal_joints = {}\n",
      "recompute = False\n",
      "if recompute:\n",
      "    for k, xs in groupby(assessments, key=by_criterion):\n",
      "        submissions = edx.group_scores_by_submission(list(xs))\n",
      "        signal_joints[k] = md.estimate_signal_joint(submissions)"
     ],
     "language": "python",
     "metadata": {},
     "outputs": [],
     "prompt_number": 38
    },
    {
     "cell_type": "code",
     "collapsed": false,
     "input": [
      "jointfile = data_path + \"signal_joint_20160422.json\""
     ],
     "language": "python",
     "metadata": {},
     "outputs": [],
     "prompt_number": 39
    },
    {
     "cell_type": "code",
     "collapsed": false,
     "input": [
      "if recompute:\n",
      "    # Save data\n",
      "    with open(jointfile, 'wb') as f:\n",
      "        # save as an array because keys aren't strings\n",
      "        json.dump([(k, v.tolist()) for (k,v) in signal_joints.items()], f)"
     ],
     "language": "python",
     "metadata": {},
     "outputs": [],
     "prompt_number": 11
    },
    {
     "cell_type": "code",
     "collapsed": false,
     "input": [
      "if not recompute:\n",
      "    # Load data\n",
      "    with open(jointfile, 'r') as f:\n",
      "        # save as an array because keys aren't strings\n",
      "        lst = json.load(f)\n",
      "        signal_joints = dict((tuple(k), np.array(v)) for k,v in lst)\n",
      "\n",
      "    # Filter out models with sizes outside 2-6\n",
      "    for k,v in signal_joints.items():\n",
      "        n = v.shape[0]\n",
      "        if n < 2 or n > 6:\n",
      "            del signal_joints[k]"
     ],
     "language": "python",
     "metadata": {},
     "outputs": [],
     "prompt_number": 49
    },
    {
     "cell_type": "code",
     "collapsed": false,
     "input": [
      "# organize signal joints by size\n",
      "joints_by_size = defaultdict(dict)  # size -> {criterion -> joint}\n",
      "for k, v in signal_joints.items():\n",
      "    joints_by_size[v.shape[0]][k] = v\n",
      "    "
     ],
     "language": "python",
     "metadata": {},
     "outputs": [],
     "prompt_number": 41
    },
    {
     "cell_type": "code",
     "collapsed": false,
     "input": [
      "# Save number of assessments by criterion\n",
      "count_by_criterion = {}  # criterion -> count\n",
      "for k, xs in groupby(assessments, key=by_criterion):\n",
      "     count_by_criterion[k] = len(list(xs))\n"
     ],
     "language": "python",
     "metadata": {},
     "outputs": [],
     "prompt_number": 42
    },
    {
     "cell_type": "markdown",
     "metadata": {},
     "source": [
      "### Basic summary of joints -- sizes, priors"
     ]
    },
    {
     "cell_type": "code",
     "collapsed": false,
     "input": [
      "counts"
     ],
     "language": "python",
     "metadata": {},
     "outputs": [
      {
       "metadata": {},
       "output_type": "pyout",
       "prompt_number": 350,
       "text": [
        "array([  0, 215, 134, 144,  73,  42,  25,  18,  11,   8,   7,   1,   3,   1])"
       ]
      }
     ],
     "prompt_number": 350
    },
    {
     "cell_type": "code",
     "collapsed": false,
     "input": [
      "ns, counts = zip(*sorted((n, len(v)) \n",
      "                         for n,v in joints_by_size.items()))\n",
      "# merge all counts above 6\n",
      "sevenup = sum(cnt \n",
      "              for n, cnt in zip(ns, counts)\n",
      "              if n > 6)\n",
      "ns = ns[:7]\n",
      "counts = counts[:6] + (sevenup,)\n",
      "\n",
      "\n",
      "fig, ax = plt.subplots()\n",
      "plot_counts(ax, ns, counts, width=0.8)\n",
      "\n",
      "\n",
      "# change \"7\" to \"7+\" in the xticks\n",
      "labels = ax.get_xticks().tolist()\n",
      "print labels\n",
      "labels[7] = '7+'\n",
      "# for some reason just resetting one label makes all the others floats\n",
      "# Just fix it.\n",
      "labels[1:7] = map(str, range(1,7))\n",
      "ax.set_xticklabels(labels)\n",
      "\n",
      "ax.set_title(\"Number of criterion options\")\n",
      "plotting.set_width(fig, \"half\")\n",
      "filename = \"size_counts.pdf\"\n",
      "fig.savefig(FIG_DIR + \"/\" + filename, bbox_inches='tight')"
     ],
     "language": "python",
     "metadata": {},
     "outputs": [
      {
       "output_type": "stream",
       "stream": "stdout",
       "text": [
        "[0.0, 1.0, 2.0, 3.0, 4.0, 5.0, 6.0, 7.0, 8.0]\n"
       ]
      },
      {
       "metadata": {},
       "output_type": "display_data",
       "png": "[encoded data removed]",
       "text": [
        "<matplotlib.figure.Figure at 0x17ae132d0>"
       ]
      }
     ],
     "prompt_number": 128
    },
    {
     "cell_type": "markdown",
     "metadata": {},
     "source": [
      "Interesting -- there are a number of problems with only one (used) criterion option value -- perhaps no one selected the other option(s)? Would be useful to go grab the actual problem content at some point.  Most likely is that tool was being used to give feedback, not to evaluate (so focus on open-ended comments, not score)\n",
      "\n",
      "Also interesting that there are problems with 21 possible values for a criterion!"
     ]
    },
    {
     "cell_type": "code",
     "collapsed": false,
     "input": [
      "[(n, v.keys()) for (n,v) in joints_by_size.items() if n > 6]"
     ],
     "language": "python",
     "metadata": {},
     "outputs": []
    },
    {
     "cell_type": "markdown",
     "metadata": {},
     "source": [
      "### Average signal priors, by size"
     ]
    },
    {
     "cell_type": "code",
     "collapsed": false,
     "input": [
      "fig, ax = plt.subplots(2,3)\n",
      "fig.set_size_inches(10,6)\n",
      "# Remove the extra axis\n",
      "fig.delaxes(ax.ravel()[-1])\n",
      "\n",
      "for i in range(5):\n",
      "    # looking at sizes 2-6\n",
      "    k = i + 2\n",
      "    priors = [md.prior_from_joint(joint) for joint in joints_by_size[i+2].values()]\n",
      "    \n",
      "    this_ax = ax.ravel()[i]\n",
      "    \n",
      "    xs = range(0,k)\n",
      "    for prior in priors:\n",
      "        #ax[i].plot(xs, prior, c='blue', ms=4, alpha=0.05)\n",
      "        this_ax.scatter(xs, prior, c='blue', s=10, alpha=0.05)\n",
      "    avgs = np.mean(priors, axis=0)\n",
      "\n",
      " \n",
      "    \n",
      "    this_ax.plot(xs, avgs, c='red', \n",
      "                 markersize=10, marker='_', markeredgewidth=2, ls='None',\n",
      "                 alpha=plotting.DEFAULT_ALPHA)\n",
      "\n",
      "    this_ax.xaxis.set_major_locator( plt.MultipleLocator(1))\n",
      "    this_ax.set_xlim(-0.5, k-0.5)\n",
      "#      # Hide the right and top spines\n",
      "#     this_ax.spines['right'].set_visible(False)\n",
      "#     this_ax.spines['top'].set_visible(False)\n",
      "\n",
      "#     # Only show ticks on the left and bottom spines\n",
      "#     this_ax.yaxis.set_ticks_position('none')\n",
      "#     this_ax.xaxis.set_ticks_position('none')\n",
      "    \n",
      "    this_ax.set_ylim((0,1))\n",
      "    this_ax.set_title(\"Signal priors (k={})\".format(i+2))\n",
      "    \n",
      "\n",
      "sns.despine(fig)\n",
      "fig.subplots_adjust(hspace=0.4)\n",
      "filename = \"priors_by_size.pdf\"\n",
      "plotting.set_width(fig, \"full\")\n",
      "fig.savefig(FIG_DIR + \"/\" + filename, bbox_inches='tight')\n",
      "#fig"
     ],
     "language": "python",
     "metadata": {},
     "outputs": [
      {
       "metadata": {},
       "output_type": "display_data",
       "png": "[encoded data removed]",
       "text": [
        "<matplotlib.figure.Figure at 0x17eac2850>"
       ]
      }
     ],
     "prompt_number": 355
    },
    {
     "cell_type": "markdown",
     "metadata": {},
     "source": [
      "Overall observation: higher scores are more likely. Not too surprising."
     ]
    },
    {
     "cell_type": "markdown",
     "metadata": {},
     "source": [
      "### Report frequencies\n",
      "\n",
      "For 1/prior, want to know signal priors. Let's plot them as a histogram.\n",
      "\n",
      "Just smooshing together all signal (i.e. report) frequencies for all reports for all criteria."
     ]
    },
    {
     "cell_type": "code",
     "collapsed": false,
     "input": [
      "report_freqs = []\n",
      "for k, xs in groupby(assessments, key=by_criterion):\n",
      "    counts = Counter([a.points for a in xs])\n",
      "    n = sum(counts.values())\n",
      "    report_freqs.extend([c/float(n) for c in counts.values()])                 "
     ],
     "language": "python",
     "metadata": {},
     "outputs": [],
     "prompt_number": 50
    },
    {
     "cell_type": "code",
     "collapsed": false,
     "input": [
      "len(report_freqs)"
     ],
     "language": "python",
     "metadata": {},
     "outputs": [
      {
       "metadata": {},
       "output_type": "pyout",
       "prompt_number": 51,
       "text": [
        "6308"
       ]
      }
     ],
     "prompt_number": 51
    },
    {
     "cell_type": "code",
     "collapsed": false,
     "input": [
      "fig, ax = plt.subplots()\n",
      "ax.hist(report_freqs, 50, alpha=plotting.DEFAULT_ALPHA)\n",
      "ax.set_title(\"Report freq histogram\")\n",
      "\n",
      "# Hide the right and top spines\n",
      "ax.spines['right'].set_visible(False)\n",
      "ax.spines['top'].set_visible(False)\n",
      "\n",
      "# Only show ticks on the left and bottom spines\n",
      "ax.yaxis.set_ticks_position('none')\n",
      "ax.xaxis.set_ticks_position('none')\n",
      "plotting.set_width(fig, \"half\")\n",
      "filename = \"report_freq_hist.pdf\"\n",
      "fig.savefig(FIG_DIR + \"/\" + filename, bbox_inches='tight')"
     ],
     "language": "python",
     "metadata": {},
     "outputs": [
      {
       "metadata": {},
       "output_type": "display_data",
       "png": "[encoded data removed]",
       "text": [
        "<matplotlib.figure.Figure at 0x17ee49350>"
       ]
      }
     ],
     "prompt_number": 130
    },
    {
     "cell_type": "markdown",
     "metadata": {},
     "source": [
      "Let's plot inverses."
     ]
    },
    {
     "cell_type": "code",
     "collapsed": false,
     "input": [
      "fig, ax = plt.subplots()\n",
      "ax.hist([1/x for x in report_freqs], 50, range=(1,10),\n",
      "        alpha=plotting.DEFAULT_ALPHA)  # note: cutting off long tail\n",
      "ax.set_xlim((1,10))\n",
      "sns.despine(fig)\n",
      "ax.set_title(\"Report inverse freq histogram\")"
     ],
     "language": "python",
     "metadata": {},
     "outputs": [
      {
       "metadata": {},
       "output_type": "pyout",
       "prompt_number": 132,
       "text": [
        "<matplotlib.text.Text at 0x18a313e10>"
       ]
      },
      {
       "metadata": {},
       "output_type": "display_data",
       "png": "[encoded data removed]",
       "text": [
        "<matplotlib.figure.Figure at 0x187f2b450>"
       ]
      }
     ],
     "prompt_number": 132
    },
    {
     "cell_type": "markdown",
     "metadata": {},
     "source": [
      "### Self-predicting, categorical, etc."
     ]
    },
    {
     "cell_type": "code",
     "collapsed": false,
     "input": [
      "def condition_breakdown_by_size(joints, condition_fn, valid_sizes=(2,3,4,5,6)):\n",
      "    \"\"\"\n",
      "    Args:\n",
      "        joints: list of np.arrays of joint dists\n",
      "        condition_fn: returns True/False\n",
      "        valid_sizes: drops any joint of size outside this set\n",
      "    Returns:\n",
      "        array ready to plot, e.g. as stacked bars:\n",
      "        (sizes, true_cnts, false_cnts)\n",
      "    \"\"\"\n",
      "    get_size = lambda a: a.shape[0]\n",
      "    # size -> counter true/false\n",
      "    by_size = {}\n",
      "\n",
      "    for size, xs in groupby(sorted(joints, key=get_size), key=get_size):        \n",
      "        if size in valid_sizes:\n",
      "            by_size[size] = Counter(condition_fn(joint) for joint in xs)\n",
      "    \n",
      "    nums = [(counts.get(True,0), counts.get(False,0))\n",
      "           for size, counts in sorted(by_size.items())]\n",
      "    true_cnts, false_cnts = zip(*nums)\n",
      "    sizes = sorted(by_size.keys())\n",
      "    return sizes, true_cnts, false_cnts"
     ],
     "language": "python",
     "metadata": {},
     "outputs": [],
     "prompt_number": 42
    },
    {
     "cell_type": "code",
     "collapsed": false,
     "input": [
      "def is_joint_cat(joint):\n",
      "    return md.is_categorical(md.delta_from_joint(joint))\n",
      "\n",
      "sizes, num_cat, num_not_cat = condition_breakdown_by_size(signal_joints.values(), is_joint_cat)"
     ],
     "language": "python",
     "metadata": {},
     "outputs": [],
     "prompt_number": 43
    },
    {
     "cell_type": "code",
     "collapsed": false,
     "input": [
      "sizes"
     ],
     "language": "python",
     "metadata": {},
     "outputs": [
      {
       "metadata": {},
       "output_type": "pyout",
       "prompt_number": 358,
       "text": [
        "[2, 3, 4, 5, 6]"
       ]
      }
     ],
     "prompt_number": 358
    },
    {
     "cell_type": "code",
     "collapsed": false,
     "input": [
      "fig, ax = plt.subplots()\n",
      "plot_stacked_bars(ax, sizes,\n",
      "                  [num_cat, num_not_cat],\n",
      "                  [\"gray\", \"#FF8080\"],\n",
      "                  [\"Categorical\", \"Not categorical\"], width=0.6)\n",
      "\n",
      "ax.set_ylim((0, 1000))\n",
      "ax.set_yticks(range(0, 1001, 250))\n",
      "ax.legend(loc='upper right', bbox_to_anchor=(1.2,1.0))\n",
      "plotting.set_width(fig, \"half\")\n",
      "filename = \"categorical_breakdown.pdf\"\n",
      "fig.savefig(FIG_DIR + \"/\" + filename, bbox_inches='tight')"
     ],
     "language": "python",
     "metadata": {},
     "outputs": [
      {
       "metadata": {},
       "output_type": "display_data",
       "png": "[encoded data removed]",
       "text": [
        "<matplotlib.figure.Figure at 0x186ddf910>"
       ]
      }
     ],
     "prompt_number": 359
    },
    {
     "cell_type": "code",
     "collapsed": false,
     "input": [
      "sizes, num_selfp, num_not_selfp = condition_breakdown_by_size(signal_joints.values(), md.is_self_predicting)"
     ],
     "language": "python",
     "metadata": {},
     "outputs": [],
     "prompt_number": 361
    },
    {
     "cell_type": "code",
     "collapsed": false,
     "input": [
      "fig, ax = plt.subplots()\n",
      "plot_stacked_bars(ax, sizes,\n",
      "                  [num_selfp, num_not_selfp],\n",
      "                  [\"gray\", \"#FF8080\"],\n",
      "                  [\"Self-predicting\", \"Not self-predicting\"], width=0.6)\n",
      "\n",
      "ax.set_ylim((0, 1000))\n",
      "ax.set_yticks(range(0, 1001, 250))\n",
      "ax.legend(loc='upper right', bbox_to_anchor=(1.2,1.0))\n",
      "plotting.set_width(fig, \"half\")\n",
      "filename = \"self_predicting_breakdown.pdf\"\n",
      "fig.savefig(FIG_DIR + \"/\" + filename, bbox_inches='tight')"
     ],
     "language": "python",
     "metadata": {},
     "outputs": [
      {
       "metadata": {},
       "output_type": "display_data",
       "png": "[encoded data removed]",
       "text": [
        "<matplotlib.figure.Figure at 0x18462a0d0>"
       ]
      }
     ],
     "prompt_number": 362
    },
    {
     "cell_type": "code",
     "collapsed": false,
     "input": [
      "sizes, num_selfdom, num_not_selfdom = condition_breakdown_by_size(signal_joints.values(), md.is_self_dominant)"
     ],
     "language": "python",
     "metadata": {},
     "outputs": [],
     "prompt_number": 363
    },
    {
     "cell_type": "code",
     "collapsed": false,
     "input": [
      "fig, ax = plt.subplots()\n",
      "plot_stacked_bars(ax, sizes,\n",
      "                  [num_selfdom, num_not_selfdom],\n",
      "                  [\"gray\", \"#FF8080\"],\n",
      "                  [\"Self-dominant\", \"Not self-dominant\"], width=0.6)\n",
      "\n",
      "ax.set_ylim((0, 1000))\n",
      "ax.set_yticks(range(0, 1001, 250))\n",
      "ax.legend(loc='upper right', bbox_to_anchor=(1.2,1.0))\n",
      "plotting.set_width(fig, \"half\")\n",
      "filename = \"self_dominant_breakdown.pdf\"\n",
      "fig.savefig(FIG_DIR + \"/\" + filename, bbox_inches='tight')"
     ],
     "language": "python",
     "metadata": {},
     "outputs": [
      {
       "metadata": {},
       "output_type": "display_data",
       "png": "[encoded data removed]",
       "text": [
        "<matplotlib.figure.Figure at 0x17e713a90>"
       ]
      }
     ],
     "prompt_number": 364
    },
    {
     "cell_type": "code",
     "collapsed": false,
     "input": [
      "sizes, num_shadow_ok, num_not_shadow_ok = condition_breakdown_by_size(signal_joints.values(), md.is_shadowing_safe)"
     ],
     "language": "python",
     "metadata": {},
     "outputs": [],
     "prompt_number": 365
    },
    {
     "cell_type": "code",
     "collapsed": false,
     "input": [
      "fig, ax = plt.subplots()\n",
      "plot_stacked_bars(ax, sizes,\n",
      "                  [num_shadow_ok, num_not_shadow_ok],\n",
      "                  [\"gray\", \"#FF8080\"],\n",
      "                  [\"Shadowing ok\", \"Not shadowing ok\"], width=0.6)\n",
      "\n",
      "ax.set_ylim((0, 1000))\n",
      "ax.set_yticks(range(0, 1001, 250))\n",
      "ax.legend(loc='upper right', bbox_to_anchor=(1.2,1.0))\n",
      "plotting.set_width(fig, \"half\")\n",
      "filename = \"shadowing_breakdown.pdf\"\n",
      "fig.savefig(FIG_DIR + \"/\" + filename, bbox_inches='tight')"
     ],
     "language": "python",
     "metadata": {},
     "outputs": [
      {
       "metadata": {},
       "output_type": "display_data",
       "png": "[encoded data removed]",
       "text": [
        "<matplotlib.figure.Figure at 0x17cb0f450>"
       ]
      }
     ],
     "prompt_number": 366
    },
    {
     "cell_type": "markdown",
     "metadata": {},
     "source": [
      "Confusion matrices: for a pair of conditions, how many are one, the other, both, etc."
     ]
    },
    {
     "cell_type": "code",
     "collapsed": false,
     "input": [
      "def compare_conditions(joints, fn1, fn2, label1, label2):\n",
      "    conditions_met = [(fn1(j), fn2(j))\n",
      "                      for j in joints]\n",
      "    counts = Counter(conditions_met)\n",
      "    print \"{}  {}   Count\".format(label1, label2)\n",
      "    for x1 in (False, True):\n",
      "        for x2 in (False, True):\n",
      "            print \"{} {} {}\".format(x1, x2, counts[(x1,x2)])\n",
      "\n",
      "joints_3plus = [j for j in signal_joints.values() if j.shape[0] > 2]\n",
      "\n",
      "compare_conditions(joints_3plus, md.is_self_dominant, md.is_self_predicting, \"self-dom\", \"self-pred\")\n",
      "print\n",
      "\n",
      "compare_conditions(joints_3plus, md.is_self_dominant, md.is_shadowing_safe, \"self-dom\", \"shad\")\n",
      "print \n",
      "\n",
      "compare_conditions(joints_3plus, md.is_self_predicting, md.is_shadowing_safe, \"self-pred\", \"shad\")\n",
      "                   \n",
      "#                   md.is_shadowing_safe(j), "
     ],
     "language": "python",
     "metadata": {},
     "outputs": [
      {
       "output_type": "stream",
       "stream": "stdout",
       "text": [
        "self-dom  self-pred   Count\n",
        "False False 656\n",
        "False True 800\n",
        "True False 11\n",
        "True True 107\n",
        "\n",
        "self-dom  shad   Count"
       ]
      },
      {
       "output_type": "stream",
       "stream": "stdout",
       "text": [
        "\n",
        "False False 465\n",
        "False True 991\n",
        "True False 7\n",
        "True True 111\n",
        "\n",
        "self-pred  shad   Count"
       ]
      },
      {
       "output_type": "stream",
       "stream": "stdout",
       "text": [
        "\n",
        "False False 445\n",
        "False True 222\n",
        "True False 27\n",
        "True True 880\n"
       ]
      }
     ],
     "prompt_number": 31
    },
    {
     "cell_type": "code",
     "collapsed": false,
     "input": [],
     "language": "python",
     "metadata": {},
     "outputs": []
    },
    {
     "cell_type": "markdown",
     "metadata": {},
     "source": [
      "### Summary of conditions\n",
      "\n",
      "- peer shadowing condition holds for all size 2, many size 3 models, about half size 4.\n",
      "- self-predicting holds for all size 2, many size 3 models (fewer than peer shadowing)\n",
      "- categorical holds for all size 2, less than half size 3 models\n",
      "- self-dominant doesn't even hold for all size 2 models.\n",
      "\n",
      "So -- DGMS won't work. Simple OA definitely won't work. RPTS isn't idea either -- necessary condition doesn't seem to hold.\n",
      "\n",
      "Possible follow-up question: by how much are the conditions broken? Are many more models \"almost categorical? almost self-predicting?\" "
     ]
    },
    {
     "cell_type": "code",
     "collapsed": false,
     "input": [],
     "language": "python",
     "metadata": {},
     "outputs": []
    },
    {
     "cell_type": "markdown",
     "metadata": {},
     "source": [
      "### Looking at delta matrices\n",
      "\n",
      "Let's plot the averages, maybe dive in further, e.g. look at all non-self-predicting ones separately."
     ]
    },
    {
     "cell_type": "code",
     "collapsed": false,
     "input": [
      "def plot_tiny_matrix(ax, delta, min_v=None, max_v=None, cmap=\"coolwarm\"):\n",
      "    ax.spines['right'].set_visible(False)\n",
      "    ax.spines['left'].set_visible(False)\n",
      "    ax.spines['top'].set_visible(False)\n",
      "    ax.spines['bottom'].set_visible(False)\n",
      "    ax.grid(False)\n",
      "\n",
      "    # No ticks\n",
      "    ax.yaxis.set_ticks_position('none')\n",
      "    ax.xaxis.set_ticks_position('none')\n",
      "    ax.set_xticks([])\n",
      "    ax.set_yticks([])\n",
      "    \n",
      "    img = ax.imshow(delta, interpolation=\"nearest\",cmap=cmap, vmin=min_v, vmax=max_v)\n",
      "    #plt.colorbar(img)"
     ],
     "language": "python",
     "metadata": {},
     "outputs": [],
     "prompt_number": 56
    },
    {
     "cell_type": "code",
     "collapsed": false,
     "input": [
      "def plot_many(matrices, title, cmaps=None, min_v=None, max_v=None):\n",
      "    \"\"\"\n",
      "    Plot a bunch of matrices. If a matrix is None, skips it.\n",
      "    \n",
      "    If cmaps is a cmap, uses that. If it's a sequence, cycles it.\n",
      "    \n",
      "    If min_v, max_v are not None, passes them through\n",
      "    \"\"\"\n",
      "    k = len(matrices)\n",
      "    \n",
      "    MAX_PER_ROW = 12\n",
      "    rows = (k + MAX_PER_ROW - 1 ) / MAX_PER_ROW\n",
      "    \n",
      "    FIG_WIDTH = 12\n",
      "    SPACING = 0.08\n",
      "    PLT_WIDTH = FIG_WIDTH / (MAX_PER_ROW + SPACING)\n",
      "    ROW_HEIGHT = PLT_WIDTH + SPACING\n",
      "    \n",
      "    fig = plt.figure()\n",
      "    fig.set_size_inches((FIG_WIDTH, 0.2 + ROW_HEIGHT*rows))\n",
      "    \n",
      "    # strings and non-iterable things need to be wrapped in an array to cycle properly\n",
      "    if isinstance(cmaps, types.StringTypes) or not isinstance(cmaps, Iterable):\n",
      "        cmaps = [cmaps]\n",
      "    for i, matrix, cmap in zip(range(k), matrices, cycle(cmaps)):\n",
      "        if matrix is not None:\n",
      "            ax = fig.add_subplot(rows, MAX_PER_ROW, i+1)  # 1-based indexing. Thanks matlab.\n",
      "            kwargs = {}\n",
      "            if cmap is not None:\n",
      "                kwargs['cmap'] = cmap\n",
      "            plot_tiny_matrix(ax, matrix, min_v=min_v, max_v=max_v, **kwargs)\n",
      "        \n",
      "    fig.suptitle(title)# , fontsize=FIG_TITLE_SIZE)\n",
      "        "
     ],
     "language": "python",
     "metadata": {},
     "outputs": [],
     "prompt_number": 57
    },
    {
     "cell_type": "code",
     "collapsed": false,
     "input": [
      "avg_delta_by_size = {}  # size -> delta\n",
      "\n",
      "get_size = lambda a: a.shape[0]\n",
      "for n, joints in groupby(sorted(signal_joints.values(), key=get_size), key=get_size):\n",
      "    deltas = map(md.delta_from_joint, joints)\n",
      "    avg_delta_by_size[n] = np.mean(deltas, axis=0)    \n",
      "    \n",
      "keep_sizes = set(range(2,7))  # only keep 2-6\n",
      "for k in avg_delta_by_size.keys():\n",
      "    if k not in keep_sizes:\n",
      "        del avg_delta_by_size[k]\n"
     ],
     "language": "python",
     "metadata": {},
     "outputs": [],
     "prompt_number": 45
    },
    {
     "cell_type": "code",
     "collapsed": false,
     "input": [
      "deltas_by_size = {} # size -> list of deltas\n",
      "\n",
      "for n, joints in groupby(sorted(signal_joints.values(), key=get_size), key=get_size):\n",
      "    # only keep 2-6\n",
      "    if n in keep_sizes:\n",
      "        deltas_by_size[n] = map(md.delta_from_joint, joints)\n",
      "    "
     ],
     "language": "python",
     "metadata": {},
     "outputs": [],
     "prompt_number": 46
    },
    {
     "cell_type": "code",
     "collapsed": false,
     "input": [
      "fig, axs = plt.subplots(2,len(avg_delta_by_size))\n",
      "#fig.set_size_inches(len(avg_delta_by_size), 2.8)\n",
      "fig.subplots_adjust(hspace=0.01, wspace=0.1, top=0.8)\n",
      "\n",
      "min_v = np.min([np.min(d) for d in avg_delta_by_size.values()])\n",
      "max_v = np.max([np.max(d) for d in avg_delta_by_size.values()])\n",
      "\n",
      "print min_v, max_v\n",
      "\n",
      "for i, (n, d) in enumerate(sorted(avg_delta_by_size.items())):\n",
      "    plot_tiny_matrix(axs[0,i], d, min_v=min_v, max_v=max_v)\n",
      "    # also plot sign(delta)\n",
      "    plot_tiny_matrix(axs[1,i], np.sign(d), cmap=\"Greys\", min_v=-2, max_v=2)\n",
      "    axs[0,i].set_title(n)\n",
      "    \n",
      "    \n",
      "    fig.suptitle(\"Average $\\Delta$ matrices\".format(n, n)) # , fontsize=FIG_TITLE_SIZE)\n",
      "    plotting.set_width(fig, \"half\")\n",
      "    filename = \"avg_deltas.pdf\"\n",
      "    fig.savefig(FIG_DIR + \"/\" + filename, bbox_inches='tight')"
     ],
     "language": "python",
     "metadata": {},
     "outputs": [
      {
       "output_type": "stream",
       "stream": "stdout",
       "text": [
        "-0.0517770797433 0.0517770797433\n"
       ]
      },
      {
       "metadata": {},
       "output_type": "display_data",
       "png": "[encoded data removed]",
       "text": [
        "<matplotlib.figure.Figure at 0x1878f2a90>"
       ]
      }
     ],
     "prompt_number": 369
    },
    {
     "cell_type": "code",
     "collapsed": false,
     "input": [
      "def plot_colorbar(filename=None):\n",
      "    fig, ax = plt.subplots()\n",
      "    fig.set_size_inches(0.5, 2)\n",
      "    norm = mpl.colors.Normalize(vmin=min_v, vmax=max_v)\n",
      "    cb = mpl.colorbar.ColorbarBase(ax, cmap=\"coolwarm\", norm=norm, orientation='vertical', \n",
      "                                   ticks=[-0.1, -0.05, 0, 0.05, 0.1])\n",
      "#    cb.set_label('')\n",
      "    if filename:\n",
      "        fig.savefig(FIG_DIR + \"/\" + filename, bbox_inches='tight')\n",
      "\n",
      "plot_colorbar(\"delta_colorbar.pdf\")"
     ],
     "language": "python",
     "metadata": {},
     "outputs": [
      {
       "metadata": {},
       "output_type": "display_data",
       "png": "[encoded data removed]",
       "text": [
        "<matplotlib.figure.Figure at 0x186b5d9d0>"
       ]
      }
     ],
     "prompt_number": 117
    },
    {
     "cell_type": "markdown",
     "metadata": {},
     "source": [
      "Delta summary: looks pretty neatly ordinal when averaged. Not too surprising.\n",
      "\n",
      "Hmm... could look at average joints too, whether they satisfy e.g. self-predicting condition."
     ]
    },
    {
     "cell_type": "markdown",
     "metadata": {},
     "source": [
      "### Deltas deeper dive\n",
      "\n",
      "- look at distribution of expected 01 scores (aka sums of deltas)\n",
      "- look at distribution of absolute values of entries in delta\n",
      "- if we zero out small entries, what cluster, what do we get?"
     ]
    },
    {
     "cell_type": "code",
     "collapsed": false,
     "input": [
      "# actual, ideal\n",
      "pairs = [(md.expected_01_score(md.delta_from_joint(joint)),\n",
      "          md.expected_01_score(md.delta_from_joint(np.diag(md.prior_from_joint(joint)))))\n",
      "         for joint in signal_joints.values()]\n",
      "actual,ideal = zip(*pairs)\n",
      "\n",
      "def remap(x):\n",
      "    \"\"\"01 score -> probability distance (compensate for rescale)\"\"\"\n",
      "    return (x-0.5)*2\n",
      "\n",
      "actual = map(remap, actual)\n",
      "ideal = map(remap, ideal)\n",
      "\n",
      "# And now plot the two as histograms\n",
      "fig, ax = plt.subplots()\n",
      "ax.hist((actual,ideal),bins=20, label=(\"actual\",\"ideal\"), alpha=plotting.DEFAULT_ALPHA)\n",
      "ax.set_xlim((0,0.9))\n",
      "ax.yaxis.set_major_locator( plt.MultipleLocator(200))\n",
      "ax.xaxis.set_major_locator( plt.MultipleLocator(0.2))\n",
      "\n",
      "ax.legend(loc='best')\n",
      "#ax.set_title('Expected CA scores')\n",
      "\n",
      "sns.despine(fig)\n",
      "plotting.set_width(fig, \"half\")\n",
      "plotting.save_figure(fig, \"sum_delta_hist_w_ideal.pdf\")"
     ],
     "language": "python",
     "metadata": {},
     "outputs": [
      {
       "metadata": {},
       "output_type": "display_data",
       "png": "[encoded data removed]",
       "text": [
        "<matplotlib.figure.Figure at 0x17807dbd0>"
       ]
      }
     ],
     "prompt_number": 54
    },
    {
     "cell_type": "code",
     "collapsed": false,
     "input": [
      "fig, ax = plt.subplots()\n",
      "all_deltas = list(md.flatten(deltas_by_size.values()))\n",
      "# compensate for rescaling 01 score into [0,1]\n",
      "sums = [2* (x-0.5) for x in map(md.expected_01_score, all_deltas)]\n",
      "\n",
      "ax.hist(sums, bins=20, alpha=plotting.DEFAULT_ALPHA)\n",
      "ax.xaxis.set_major_locator(plt.MultipleLocator(0.1))\n",
      "ax.yaxis.set_major_locator(plt.MultipleLocator(100))\n",
      "ax.set_xlabel(\"'Excess' probability\")\n",
      "ax.set_ylabel(\"Count\")\n",
      "\n",
      "sns.despine(fig)\n",
      "plotting.set_width(fig, \"half\")\n",
      "plotting.save_figure(fig, \"sum_delta_hist.pdf\")"
     ],
     "language": "python",
     "metadata": {},
     "outputs": [
      {
       "metadata": {},
       "output_type": "display_data",
       "png": "[encoded data removed]",
       "text": [
        "<matplotlib.figure.Figure at 0x179cc8f90>"
       ]
      }
     ],
     "prompt_number": 48
    },
    {
     "cell_type": "code",
     "collapsed": false,
     "input": [
      "fig, axs = plt.subplots(2,3)\n",
      "\n",
      "ylims = [65, 200, 65, 20, 20]\n",
      "ymults = [15, 50, 15, 5, 5]\n",
      "for i, k in enumerate(range(2,7)):\n",
      "    ax = axs.ravel()[i]\n",
      "    deltas = deltas_by_size[k]\n",
      "    \n",
      "    sums = map(md.expected_01_score, deltas)\n",
      "    (n, _, _) = ax.hist(sums, bins=20, alpha=plotting.DEFAULT_ALPHA)\n",
      "    ax.xaxis.set_major_locator(plt.MultipleLocator(0.1))\n",
      "    \n",
      "    ax.set_xlim((0, 0.4))\n",
      "    ax.set_ylim((0, ylims[i]))\n",
      "    ax.yaxis.set_major_locator(plt.MultipleLocator(ymults[i]))\n",
      "    ax.set_title(\"k={}\".format(k))\n",
      "    ax.set_ylabel(\"Count\")\n",
      "\n",
      "fig.subplots_adjust(hspace=0.4)\n",
      "fig.delaxes(axs.ravel()[5])\n",
      "fig.suptitle(\"'Excess' probability by size\",y=1.03)\n",
      "sns.despine(fig)\n",
      "plotting.set_width(fig, \"full\")\n",
      "plotting.save_figure(fig, \"sum_delta_hist_by_size.pdf\")"
     ],
     "language": "python",
     "metadata": {},
     "outputs": [
      {
       "metadata": {},
       "output_type": "display_data",
       "png": "[encoded data removed]",
       "text": [
        "<matplotlib.figure.Figure at 0x1822bd490>"
       ]
      }
     ],
     "prompt_number": 320
    },
    {
     "cell_type": "code",
     "collapsed": false,
     "input": [
      "all_entries = list(md.flatten(map(np.ravel, all_deltas)))\n",
      "plt.hist(all_entries, bins=50);"
     ],
     "language": "python",
     "metadata": {},
     "outputs": [
      {
       "metadata": {},
       "output_type": "display_data",
       "png": "[encoded data removed]",
       "text": [
        "<matplotlib.figure.Figure at 0x17f0b7590>"
       ]
      }
     ],
     "prompt_number": 147
    },
    {
     "cell_type": "code",
     "collapsed": false,
     "input": [
      "sums = [md.expected_01_score(md.trim_delta(delta, eps=0.01)) for delta in all_deltas]\n",
      "plt.hist(sums)"
     ],
     "language": "python",
     "metadata": {},
     "outputs": [
      {
       "metadata": {},
       "output_type": "pyout",
       "prompt_number": 152,
       "text": [
        "(array([ 223.,  576.,  590.,  295.,  179.,   47.,   16.,    3.,    9.,    2.]),\n",
        " array([ 0.        ,  0.04274469,  0.08548938,  0.12823408,  0.17097877,\n",
        "         0.21372346,  0.25646815,  0.29921284,  0.34195753,  0.38470223,\n",
        "         0.42744692]),\n",
        " <a list of 10 Patch objects>)"
       ]
      },
      {
       "metadata": {},
       "output_type": "display_data",
       "png": "[encoded data removed]",
       "text": [
        "<matplotlib.figure.Figure at 0x17c414850>"
       ]
      }
     ],
     "prompt_number": 152
    },
    {
     "cell_type": "markdown",
     "metadata": {},
     "source": [
      "Trimming small (less than 0.01) entries doesn't seem to affect the scores much. Now let's see what kind of sign structure clustering we get on the trimmed deltas.\n",
      "\n",
      "On second thought, maybe it's not that interesting... the fixed-score matrix approach seems similar. For now, let's just plot the fixed matrices."
     ]
    },
    {
     "cell_type": "code",
     "collapsed": false,
     "input": [
      "fig, axs = plt.subplots(1,5)\n",
      "#fig.subplots_adjust(hspace=0.01, wspace=0.1, top=0.8)\n",
      "\n",
      "for i, n in enumerate(range(2,7)):\n",
      "    d = md.fixed_score_matrix(np.identity(n))\n",
      "    plot_tiny_matrix(axs[i], d, cmap=\"Greys\", min_v=-2, max_v=2)\n",
      "   \n",
      "    fig.suptitle(\"Fixed CA score matrices\")\n",
      "    plotting.set_width(fig, \"half\", height_ratio=0.6)\n",
      "    plotting.save_figure(fig, \"fixed_01_score_matrices.pdf\")"
     ],
     "language": "python",
     "metadata": {},
     "outputs": [
      {
       "metadata": {},
       "output_type": "display_data",
       "png": "[encoded data removed]",
       "text": [
        "<matplotlib.figure.Figure at 0x184e4bcd0>"
       ]
      }
     ],
     "prompt_number": 59
    },
    {
     "cell_type": "markdown",
     "metadata": {},
     "source": [
      "# Signal correlation\n",
      "\n",
      "What's the correlation between reports, overall, by course, by criterion? Need to define.\n",
      "\n",
      "- Sum of joint diagonal gives probability of exact match. Weight by # of assessments when averaging.\n",
      "- need to figure out a correlation measure.\n"
     ]
    },
    {
     "cell_type": "code",
     "collapsed": false,
     "input": [
      "# Let's look at overall probability of agreement\n",
      "\n",
      "def prob_agreement_joint(joint, within=0):\n",
      "    \"\"\"\n",
      "    Return the probability that two reports are within the specified distance\n",
      "    of each other. Sums the appropriate diagonals of joint.\n",
      "    \"\"\"\n",
      "    total = np.sum(np.diag(joint))\n",
      "    for i in range(1,within+1):\n",
      "        total += np.sum(np.diag(joint, k=i)) + np.sum(np.diag(joint, k=-i))\n",
      "    return total\n",
      "    \n",
      "\n",
      "def prob_agreement(criteria, within=0):\n",
      "    \"\"\"Criteria -- list of criterion tuples. Must be iterable multiple times\"\"\"\n",
      "    return np.sum(prob_agreement_joint(signal_joints[k], within) * count_by_criterion[k]\n",
      "    for k in criteria) / sum(count_by_criterion[k] for k in criteria)\n",
      "\n",
      "\n",
      "def prob_default_agreement(criteria, within=0):\n",
      "    \"\"\"Criteria -- list of criterion tuples. Must be iterable multiple times\"\"\"\n",
      "    return np.sum(prob_agreement_joint(md.ind_joint_from_joint(signal_joints[k]), within) * \n",
      "                  count_by_criterion[k]\n",
      "        for k in criteria) / sum(count_by_criterion[k] for k in criteria)\n",
      "\n",
      "\n",
      "all_criteria = [k for k in sorted(count_by_criterion.keys())\n",
      "                if signal_joints[k].shape[0] in [2,3,4,5,6]]\n",
      "\n",
      "print \"Overall probability of two reports on same submission matching {:3f}\".format(prob_agreement(all_criteria))\n",
      "\n",
      "# Break down by course.\n",
      "probs_agreement_by_course = [prob_agreement(list(xs))\n",
      "    for course, xs in groupby(all_criteria, key=itemgetter(0))]\n",
      "fig, ax = plt.subplots()\n",
      "ax.hist(probs_agreement_by_course, bins=20, alpha=plotting.DEFAULT_ALPHA);\n",
      "ax.set_title(\"Probabilities of agreement for all courses\")"
     ],
     "language": "python",
     "metadata": {},
     "outputs": [
      {
       "output_type": "stream",
       "stream": "stdout",
       "text": [
        "Overall probability of two reports on same submission matching 0.609357\n"
       ]
      },
      {
       "metadata": {},
       "output_type": "pyout",
       "prompt_number": 16,
       "text": [
        "<matplotlib.text.Text at 0x176099590>"
       ]
      },
      {
       "metadata": {},
       "output_type": "display_data",
       "png": "[encoded data removed]",
       "text": [
        "<matplotlib.figure.Figure at 0x175e6eed0>"
       ]
      }
     ],
     "prompt_number": 16
    },
    {
     "cell_type": "code",
     "collapsed": false,
     "input": [
      "probs_agreement_by_criterion = [np.sum(np.diag(signal_joints[k])) for k in all_criteria]\n",
      "fig, ax = plt.subplots()\n",
      "ax.hist(probs_agreement_by_criterion, bins=20, alpha=plotting.DEFAULT_ALPHA);\n",
      "ax.set_title(\"Probabilities of agreement for all criteria\")"
     ],
     "language": "python",
     "metadata": {},
     "outputs": [
      {
       "metadata": {},
       "output_type": "pyout",
       "prompt_number": 18,
       "text": [
        "<matplotlib.text.Text at 0x176610e90>"
       ]
      },
      {
       "metadata": {},
       "output_type": "display_data",
       "png": "[encoded data removed]",
       "text": [
        "<matplotlib.figure.Figure at 0x1764bdb50>"
       ]
      }
     ],
     "prompt_number": 18
    },
    {
     "cell_type": "markdown",
     "metadata": {},
     "source": [
      "To double check the above and get more insights, should implement sampling approach."
     ]
    },
    {
     "cell_type": "code",
     "collapsed": false,
     "input": [
      "# Pick a random criterion\n",
      "criterion = (u'course-v1:DelftX+EX101x+3T2015', u'341', u'0')\n",
      "selected_assessments = filter(lambda a: by_criterion(a)==criterion, assessments)"
     ],
     "language": "python",
     "metadata": {},
     "outputs": [],
     "prompt_number": 179
    },
    {
     "cell_type": "code",
     "collapsed": false,
     "input": [
      "subs = edx.group_scores_by_submission(selected_assessments)"
     ],
     "language": "python",
     "metadata": {},
     "outputs": [],
     "prompt_number": 180
    },
    {
     "cell_type": "code",
     "collapsed": false,
     "input": [
      "md.sample_signal_joint(subs)"
     ],
     "language": "python",
     "metadata": {},
     "outputs": [
      {
       "metadata": {},
       "output_type": "pyout",
       "prompt_number": 182,
       "text": [
        "array([[ 0.08  ,  0.042 ,  0.0415],\n",
        "       [ 0.042 ,  0.051 ,  0.113 ],\n",
        "       [ 0.0415,  0.113 ,  0.476 ]])"
       ]
      }
     ],
     "prompt_number": 182
    },
    {
     "cell_type": "code",
     "collapsed": false,
     "input": [
      "signal_joints[criterion]"
     ],
     "language": "python",
     "metadata": {},
     "outputs": [
      {
       "metadata": {},
       "output_type": "pyout",
       "prompt_number": 184,
       "text": [
        "array([[ 0.07857547,  0.03589599,  0.04183154],\n",
        "       [ 0.03589599,  0.05455059,  0.12549463],\n",
        "       [ 0.04183154,  0.12549463,  0.46042962]])"
       ]
      }
     ],
     "prompt_number": 184
    },
    {
     "cell_type": "markdown",
     "metadata": {},
     "source": [
      "Looks good. Now can look at distances between paired, unpaired reports. That's essentially delta, but can look at it differently:\n",
      "\n",
      "Let's look at what the above distributions look like for independent joints."
     ]
    },
    {
     "cell_type": "code",
     "collapsed": false,
     "input": [
      "print \"Overall probability of two reports on same submission matching {:3f}\".format(\n",
      "    prob_default_agreement(all_criteria))"
     ],
     "language": "python",
     "metadata": {},
     "outputs": [
      {
       "output_type": "stream",
       "stream": "stdout",
       "text": [
        "Overall probability of two reports on same submission matching 0.523829\n"
       ]
      }
     ],
     "prompt_number": 48
    },
    {
     "cell_type": "code",
     "collapsed": false,
     "input": [
      "# Break down by course.\n",
      "probs_default_agreement_by_course = [prob_default_agreement(list(xs))\n",
      "    for course, xs in groupby(all_criteria, key=itemgetter(0))]\n",
      "fig, ax = plt.subplots()\n",
      "ax.axvline(0.61, c='blue', ls='--', lw=1, label=\"Agreement mean\",\n",
      "           alpha=plotting.DEFAULT_ALPHA)\n",
      "ax.axvline(0.523, c='gray', ls=':', lw=1.5, label=\"Default mean\")\n",
      "\n",
      "val = ax.hist((probs_agreement_by_course,probs_default_agreement_by_course),\n",
      "        bins=20, alpha=plotting.DEFAULT_ALPHA,\n",
      "        label=('Agreement', 'Default agreement'));\n",
      "ax.set_title(\"Probabilities of agreement for all courses\")\n",
      "\n",
      "ax.legend(loc=(0.7,0.65))\n",
      "sns.despine(fig)\n",
      "plotting.set_width(fig, \"full\")\n",
      "plotting.save_figure(fig, \"prob_agreement_courses.pdf\")"
     ],
     "language": "python",
     "metadata": {},
     "outputs": [
      {
       "metadata": {},
       "output_type": "display_data",
       "png": "[encoded data removed]",
       "text": [
        "<matplotlib.figure.Figure at 0x17a4b1f50>"
       ]
      }
     ],
     "prompt_number": 49
    },
    {
     "cell_type": "code",
     "collapsed": false,
     "input": [
      "probs_default_agreement_by_criterion = [prob_agreement_joint(\n",
      "                        md.ind_joint_from_joint(signal_joints[k]))\n",
      "                                for k in all_criteria]\n",
      "fig, ax = plt.subplots()\n",
      "ax.hist((probs_agreement_by_criterion,probs_default_agreement_by_criterion), \n",
      "        bins=20, alpha=plotting.DEFAULT_ALPHA, \n",
      "        label=('Agreement','Default agreement'));\n",
      "\n",
      "ax.axvline(0.61, c='blue', ls='--', lw=1, label=\"Agreement mean\",\n",
      "           alpha=plotting.DEFAULT_ALPHA)\n",
      "ax.axvline(0.523, c='gray', ls=':', lw=1.5, label=\"Default mean\")\n",
      "\n",
      "ax.legend(loc=(0.7,0.65))\n",
      "ax.set_title(\"Probabilities of agreement for all criteria\")\n",
      "sns.despine(fig)\n",
      "plotting.set_width(fig, \"full\")\n",
      "plotting.save_figure(fig, \"prob_agreement_criteria.pdf\")"
     ],
     "language": "python",
     "metadata": {},
     "outputs": [
      {
       "metadata": {},
       "output_type": "display_data",
       "png": "[encoded data removed]",
       "text": [
        "<matplotlib.figure.Figure at 0x17676d790>"
       ]
      }
     ],
     "prompt_number": 19
    },
    {
     "cell_type": "markdown",
     "metadata": {},
     "source": [
      "### Let's look at that by model size"
     ]
    },
    {
     "cell_type": "code",
     "collapsed": false,
     "input": [
      "fig, axs = plt.subplots(5,1)\n",
      "\n",
      "with_size = [(signal_joints[k].shape[0], k, x, y)\n",
      "         for k, x, y in zip(all_criteria, probs_agreement_by_criterion, probs_default_agreement_by_criterion)\n",
      "         if signal_joints[k].shape[0] in range(2,7)]\n",
      "\n",
      "with_size = sorted(with_size)\n",
      "\n",
      "# manually adjust y axes to be less random\n",
      "ylims = [40, 145, 145, 40, 40]\n",
      "\n",
      "for i, (size, group) in enumerate(groupby(with_size, key=itemgetter(0))):\n",
      "    _, criteria, prob_agree, prob_default = zip(*group)\n",
      "    ax = axs.ravel()[i]\n",
      "\n",
      "    ax.hist((prob_agree, prob_default), histtype='bar',\n",
      "            bins=20, alpha=plotting.DEFAULT_ALPHA, \n",
      "            label=('Agreement','Default agreement'),);\n",
      "    \n",
      "    ax.axvline(prob_agreement(criteria), c='blue', ls='--', lw=1, label=\"Agreement mean\",\n",
      "               alpha=plotting.DEFAULT_ALPHA)\n",
      "    ax.axvline(prob_default_agreement(criteria), c='gray', ls=':', lw=1.5, label=\"Default mean\")\n",
      "\n",
      "    ax.set_title(\"k={}\".format(size))\n",
      "    ax.set_xlim((0,1))\n",
      "    \n",
      "    ax.set_ylim((0,ylims[i]))\n",
      "    ax.xaxis.set_major_locator( plt.MultipleLocator(0.2))\n",
      "    ax.yaxis.set_major_locator( plt.MultipleLocator(30 if ylims[i]>100 else 10))\n",
      "\n",
      "    if i == 0:\n",
      "        # instead of the last figure, put legend in bottom right spot\n",
      "        ax.legend(loc=(0.1,0.2))\n",
      "\n",
      "fig.suptitle(\"Probabilities of agreement by size\",y=1.05)\n",
      "    \n",
      "sns.despine(fig)\n",
      "fig.subplots_adjust(hspace=0.4)\n",
      "plotting.set_width(fig, \"full\", height_ratio=1.8)\n",
      "\n",
      "plotting.save_figure(fig, \"prob_agreement_criteria_by_size.pdf\")"
     ],
     "language": "python",
     "metadata": {},
     "outputs": [
      {
       "metadata": {},
       "output_type": "display_data",
       "png": "[encoded data removed]",
       "text": [
        "<matplotlib.figure.Figure at 0x17a18f850>"
       ]
      }
     ],
     "prompt_number": 23
    },
    {
     "cell_type": "markdown",
     "metadata": {},
     "source": [
      "Can look at distances between randomly chosen reports, but I think I'm going call this good enough for now. If someone asks for more detail, can return to it."
     ]
    },
    {
     "cell_type": "code",
     "collapsed": false,
     "input": [
      "# How likely is a random report to be the maximal possible on that criterion?\n",
      "probs_max_report_by_criterion = [md.prior_from_joint(signal_joints[k])[-1]\n",
      "                                 for k in all_criteria]\n",
      "plt.hist(probs_max_report_by_criterion)\n"
     ],
     "language": "python",
     "metadata": {},
     "outputs": [
      {
       "metadata": {},
       "output_type": "pyout",
       "prompt_number": 262,
       "text": [
        "(array([  13.,   80.,  121.,  268.,  348.,  301.,  259.,  239.,  223.,  131.]),\n",
        " array([ 0.06783145,  0.1610483 ,  0.25426516,  0.34748201,  0.44069887,\n",
        "         0.53391572,  0.62713258,  0.72034943,  0.81356629,  0.90678314,  1.        ]),\n",
        " <a list of 10 Patch objects>)"
       ]
      },
      {
       "metadata": {},
       "output_type": "display_data",
       "png": "[encoded data removed]",
       "text": [
        "<matplotlib.figure.Figure at 0x187a45710>"
       ]
      }
     ],
     "prompt_number": 262
    },
    {
     "cell_type": "code",
     "collapsed": false,
     "input": [
      "# prob of reporting maximum value\n",
      "np.sum(count_by_criterion[k] * md.prior_from_joint(signal_joints[k])[-1]\n",
      "       for k in all_criteria) / sum(count_by_criterion[k] for k in criteria)"
     ],
     "language": "python",
     "metadata": {},
     "outputs": [
      {
       "metadata": {},
       "output_type": "pyout",
       "prompt_number": 51,
       "text": [
        "0.60980072538447738"
       ]
      }
     ],
     "prompt_number": 51
    },
    {
     "cell_type": "markdown",
     "metadata": {},
     "source": [
      "### Look at KL divergence of joint vs independent prior"
     ]
    },
    {
     "cell_type": "code",
     "collapsed": false,
     "input": [
      "scipy.stats.entropy([0.1,0.3,0.4,0.2], [0.25]*4)"
     ],
     "language": "python",
     "metadata": {},
     "outputs": [
      {
       "metadata": {},
       "output_type": "pyout",
       "prompt_number": 265,
       "text": [
        "0.10644013528622318"
       ]
      }
     ],
     "prompt_number": 265
    },
    {
     "cell_type": "code",
     "collapsed": false,
     "input": [
      "def kl_div(criterion):\n",
      "    joint = signal_joints[k]\n",
      "    ind_joint = md.ind_joint_from_joint(joint)\n",
      "    # Direction is important here -- how much extra info in going \n",
      "    # from independent to the real joint\n",
      "    return scipy.stats.entropy(joint.ravel(), ind_joint.ravel())\n",
      "\n",
      "kl_by_criterion = [kl_div(k) for k in all_criteria]\n",
      "\n",
      "fig, ax = plt.subplots()\n",
      "ax.hist((kl_by_criterion), \n",
      "        bins=20, alpha=plotting.DEFAULT_ALPHA)\n",
      "\n",
      "#ax.legend(loc=(0.7,0.65))\n",
      "#ax.set_title(\"D(joint||independent) for all criteria\")\n",
      "ax.set_xlabel(\"D(joint||independent)\")\n",
      "ax.set_ylabel(\"Count\")\n",
      "\n",
      "sns.despine(fig)\n",
      "plotting.set_width(fig, \"half\")\n",
      "plotting.save_figure(fig, \"kl_joint_independent_criteria.pdf\")"
     ],
     "language": "python",
     "metadata": {},
     "outputs": [
      {
       "metadata": {},
       "output_type": "display_data",
       "png": "[encoded data removed]",
       "text": [
        "<matplotlib.figure.Figure at 0x103c8c9d0>"
       ]
      }
     ],
     "prompt_number": 53
    },
    {
     "cell_type": "markdown",
     "metadata": {},
     "source": [
      "### Approximate agreement\n",
      "\n",
      "What is the probability of approximate agreement for k>3? (within one)"
     ]
    },
    {
     "cell_type": "code",
     "collapsed": false,
     "input": [
      "approx_probs_agreement_by_criterion = [prob_agreement_joint(signal_joints[k],1)\n",
      "                                       for k in all_criteria]\n",
      "approx_probs_default_agreement_by_criterion = [prob_agreement_joint(\n",
      "                                                 md.ind_joint_from_joint(signal_joints[k]),1)\n",
      "                                               for k in all_criteria]\n",
      "\n",
      "fig, axs = plt.subplots(4,1)\n",
      "\n",
      "with_size = [(signal_joints[k].shape[0], k, x, y)\n",
      "         for k, x, y in zip(all_criteria, approx_probs_agreement_by_criterion, approx_probs_default_agreement_by_criterion)\n",
      "         if signal_joints[k].shape[0] in range(3,7)]\n",
      "\n",
      "with_size = sorted(with_size)\n",
      "\n",
      "ymults = [50, 20, 4, 4]\n",
      "\n",
      "for i, (size, group) in enumerate(groupby(with_size, key=itemgetter(0))):\n",
      "    _, criteria, prob_agree, prob_default = zip(*group)\n",
      "    ax = axs.ravel()[i]\n",
      "\n",
      "    ax.hist((prob_agree, prob_default), histtype='bar',\n",
      "            bins=20, alpha=plotting.DEFAULT_ALPHA, \n",
      "            label=('Agreement','Default agreement'),);\n",
      "    \n",
      "    ax.axvline(prob_agreement(criteria,1), c='blue', ls='--', lw=1, label=\"Agreement mean\",\n",
      "               alpha=plotting.DEFAULT_ALPHA)\n",
      "    ax.axvline(prob_default_agreement(criteria,1), c='gray', ls=':', lw=1.5, label=\"Default mean\")\n",
      "\n",
      "    ax.set_title(\"k={}\".format(size))\n",
      "    ax.set_xlim((0,1))\n",
      "    \n",
      "    ax.xaxis.set_major_locator( plt.MultipleLocator(0.2))\n",
      "    ax.yaxis.set_major_locator( plt.MultipleLocator(ymults[i]))\n",
      "\n",
      "    if i == 0:\n",
      "        # instead of the last figure, put legend in bottom right spot\n",
      "        ax.legend(loc=(0.05,0.1))\n",
      "\n",
      "fig.suptitle(\"Probabilities of approx agreement\",y=1.02)\n",
      "    \n",
      "sns.despine(fig)\n",
      "fig.subplots_adjust(hspace=0.4)\n",
      "plotting.set_width(fig, \"full\", height_ratio=2)\n",
      "\n",
      "plotting.save_figure(fig, \"prob_approx_agreement_criteria_by_size.pdf\")"
     ],
     "language": "python",
     "metadata": {},
     "outputs": [
      {
       "metadata": {},
       "output_type": "display_data",
       "png": "[encoded data removed]",
       "text": [
        "<matplotlib.figure.Figure at 0x1860c9c10>"
       ]
      }
     ],
     "prompt_number": 344
    }
   ],
   "metadata": {}
  }
 ]
}